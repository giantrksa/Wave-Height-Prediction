{
 "cells": [
  {
   "cell_type": "code",
   "execution_count": 7,
   "id": "3de58ad8",
   "metadata": {
    "ExecuteTime": {
     "end_time": "2022-11-22T09:03:12.513726Z",
     "start_time": "2022-11-22T09:03:12.505134Z"
    }
   },
   "outputs": [],
   "source": [
    "import numpy as np\n",
    "import pandas as pd\n",
    "import sqlalchemy\n",
    "\n",
    "from datetime import datetime\n",
    "import pytz\n",
    "import pickle"
   ]
  },
  {
   "cell_type": "code",
   "execution_count": 2,
   "id": "76521b4d",
   "metadata": {
    "ExecuteTime": {
     "end_time": "2022-11-22T09:02:30.418605Z",
     "start_time": "2022-11-22T09:02:27.382558Z"
    }
   },
   "outputs": [],
   "source": [
    "# ========================================================================================= #\n",
    "#                           SET DATABASE CONNECTION - LOAD DATA                             #\n",
    "# ========================================================================================= #\n",
    "\n",
    "database_username = 'root'\n",
    "database_password = 'balab'\n",
    "database_ip       = '172.17.0.7'\n",
    "database_name     = 'data_hackathon'\n",
    "database_connection = sqlalchemy.create_engine('mysql+mysqlconnector://{0}:{1}@{2}/{3}'.\n",
    "                                               format(database_username, database_password,\n",
    "                                                      database_ip, database_name))\n",
    "data = pd.read_sql('select * from data_source',con=database_connection)"
   ]
  },
  {
   "cell_type": "code",
   "execution_count": 3,
   "id": "70ec5f9d",
   "metadata": {
    "ExecuteTime": {
     "end_time": "2022-11-22T09:02:31.318779Z",
     "start_time": "2022-11-22T09:02:31.273359Z"
    }
   },
   "outputs": [
    {
     "data": {
      "text/html": [
       "<div>\n",
       "<style scoped>\n",
       "    .dataframe tbody tr th:only-of-type {\n",
       "        vertical-align: middle;\n",
       "    }\n",
       "\n",
       "    .dataframe tbody tr th {\n",
       "        vertical-align: top;\n",
       "    }\n",
       "\n",
       "    .dataframe thead th {\n",
       "        text-align: right;\n",
       "    }\n",
       "</style>\n",
       "<table border=\"1\" class=\"dataframe\">\n",
       "  <thead>\n",
       "    <tr style=\"text-align: right;\">\n",
       "      <th></th>\n",
       "      <th>TIME_STAMP</th>\n",
       "      <th>ROLL</th>\n",
       "      <th>PITCH</th>\n",
       "      <th>SPEED_VG</th>\n",
       "      <th>SPEED_LG</th>\n",
       "      <th>SPEED_TG</th>\n",
       "      <th>SPEED_LW</th>\n",
       "      <th>REL_WIND_SPEED</th>\n",
       "      <th>REL_WIND_DIR</th>\n",
       "      <th>COURSE_OVER_GROUND</th>\n",
       "      <th>...</th>\n",
       "      <th>SEA_SURFACE_SALINITY</th>\n",
       "      <th>SEA_SURFACE_TEMP</th>\n",
       "      <th>CURRENT_UV</th>\n",
       "      <th>CURRENT_VV</th>\n",
       "      <th>CURRENT_SPEED</th>\n",
       "      <th>CURRENT_DIRECTION</th>\n",
       "      <th>CURRENT_SPEED_SHIP_HEADING</th>\n",
       "      <th>BN</th>\n",
       "      <th>lat</th>\n",
       "      <th>lon</th>\n",
       "    </tr>\n",
       "  </thead>\n",
       "  <tbody>\n",
       "    <tr>\n",
       "      <th>0</th>\n",
       "      <td>2020-01-01T00:00:00.000Z</td>\n",
       "      <td>-0.246</td>\n",
       "      <td>0.097</td>\n",
       "      <td>11.513</td>\n",
       "      <td>11.513</td>\n",
       "      <td>0.007</td>\n",
       "      <td>11.673</td>\n",
       "      <td>19.029</td>\n",
       "      <td>1.803</td>\n",
       "      <td>25.978</td>\n",
       "      <td>...</td>\n",
       "      <td>33.29</td>\n",
       "      <td>27.10</td>\n",
       "      <td>0.04</td>\n",
       "      <td>0.07</td>\n",
       "      <td>0.08</td>\n",
       "      <td>211.15</td>\n",
       "      <td>-0.08</td>\n",
       "      <td>5</td>\n",
       "      <td>3.8683</td>\n",
       "      <td>108.9862</td>\n",
       "    </tr>\n",
       "    <tr>\n",
       "      <th>1</th>\n",
       "      <td>2020-01-01T00:10:00.000Z</td>\n",
       "      <td>-0.256</td>\n",
       "      <td>0.097</td>\n",
       "      <td>11.470</td>\n",
       "      <td>11.470</td>\n",
       "      <td>-0.055</td>\n",
       "      <td>11.707</td>\n",
       "      <td>19.072</td>\n",
       "      <td>1.200</td>\n",
       "      <td>26.935</td>\n",
       "      <td>...</td>\n",
       "      <td>33.28</td>\n",
       "      <td>27.11</td>\n",
       "      <td>0.05</td>\n",
       "      <td>0.08</td>\n",
       "      <td>0.09</td>\n",
       "      <td>210.94</td>\n",
       "      <td>-0.09</td>\n",
       "      <td>5</td>\n",
       "      <td>3.8977</td>\n",
       "      <td>109.0008</td>\n",
       "    </tr>\n",
       "    <tr>\n",
       "      <th>2</th>\n",
       "      <td>2020-01-01T00:20:00.000Z</td>\n",
       "      <td>-0.225</td>\n",
       "      <td>0.104</td>\n",
       "      <td>11.450</td>\n",
       "      <td>11.450</td>\n",
       "      <td>-0.087</td>\n",
       "      <td>11.670</td>\n",
       "      <td>17.873</td>\n",
       "      <td>0.867</td>\n",
       "      <td>27.317</td>\n",
       "      <td>...</td>\n",
       "      <td>33.28</td>\n",
       "      <td>27.10</td>\n",
       "      <td>0.05</td>\n",
       "      <td>0.08</td>\n",
       "      <td>0.10</td>\n",
       "      <td>211.53</td>\n",
       "      <td>-0.10</td>\n",
       "      <td>5</td>\n",
       "      <td>3.9120</td>\n",
       "      <td>109.0083</td>\n",
       "    </tr>\n",
       "    <tr>\n",
       "      <th>3</th>\n",
       "      <td>2020-01-01T00:30:00.000Z</td>\n",
       "      <td>-0.249</td>\n",
       "      <td>0.103</td>\n",
       "      <td>11.856</td>\n",
       "      <td>11.849</td>\n",
       "      <td>-0.160</td>\n",
       "      <td>12.011</td>\n",
       "      <td>18.446</td>\n",
       "      <td>0.328</td>\n",
       "      <td>26.942</td>\n",
       "      <td>...</td>\n",
       "      <td>33.28</td>\n",
       "      <td>27.10</td>\n",
       "      <td>0.06</td>\n",
       "      <td>0.09</td>\n",
       "      <td>0.10</td>\n",
       "      <td>213.21</td>\n",
       "      <td>-0.10</td>\n",
       "      <td>5</td>\n",
       "      <td>3.9558</td>\n",
       "      <td>109.0307</td>\n",
       "    </tr>\n",
       "    <tr>\n",
       "      <th>4</th>\n",
       "      <td>2020-01-01T00:40:00.000Z</td>\n",
       "      <td>-0.224</td>\n",
       "      <td>0.088</td>\n",
       "      <td>12.438</td>\n",
       "      <td>12.438</td>\n",
       "      <td>-0.142</td>\n",
       "      <td>12.464</td>\n",
       "      <td>18.939</td>\n",
       "      <td>1.746</td>\n",
       "      <td>25.256</td>\n",
       "      <td>...</td>\n",
       "      <td>33.28</td>\n",
       "      <td>27.09</td>\n",
       "      <td>0.06</td>\n",
       "      <td>0.09</td>\n",
       "      <td>0.11</td>\n",
       "      <td>214.34</td>\n",
       "      <td>-0.11</td>\n",
       "      <td>5</td>\n",
       "      <td>3.9867</td>\n",
       "      <td>109.0453</td>\n",
       "    </tr>\n",
       "  </tbody>\n",
       "</table>\n",
       "<p>5 rows × 193 columns</p>\n",
       "</div>"
      ],
      "text/plain": [
       "                 TIME_STAMP   ROLL  PITCH  SPEED_VG  SPEED_LG  SPEED_TG  \\\n",
       "0  2020-01-01T00:00:00.000Z -0.246  0.097    11.513    11.513     0.007   \n",
       "1  2020-01-01T00:10:00.000Z -0.256  0.097    11.470    11.470    -0.055   \n",
       "2  2020-01-01T00:20:00.000Z -0.225  0.104    11.450    11.450    -0.087   \n",
       "3  2020-01-01T00:30:00.000Z -0.249  0.103    11.856    11.849    -0.160   \n",
       "4  2020-01-01T00:40:00.000Z -0.224  0.088    12.438    12.438    -0.142   \n",
       "\n",
       "   SPEED_LW  REL_WIND_SPEED  REL_WIND_DIR  COURSE_OVER_GROUND  ...  \\\n",
       "0    11.673          19.029         1.803              25.978  ...   \n",
       "1    11.707          19.072         1.200              26.935  ...   \n",
       "2    11.670          17.873         0.867              27.317  ...   \n",
       "3    12.011          18.446         0.328              26.942  ...   \n",
       "4    12.464          18.939         1.746              25.256  ...   \n",
       "\n",
       "   SEA_SURFACE_SALINITY  SEA_SURFACE_TEMP  CURRENT_UV  CURRENT_VV  \\\n",
       "0                 33.29             27.10        0.04        0.07   \n",
       "1                 33.28             27.11        0.05        0.08   \n",
       "2                 33.28             27.10        0.05        0.08   \n",
       "3                 33.28             27.10        0.06        0.09   \n",
       "4                 33.28             27.09        0.06        0.09   \n",
       "\n",
       "   CURRENT_SPEED  CURRENT_DIRECTION  CURRENT_SPEED_SHIP_HEADING  BN     lat  \\\n",
       "0           0.08             211.15                       -0.08   5  3.8683   \n",
       "1           0.09             210.94                       -0.09   5  3.8977   \n",
       "2           0.10             211.53                       -0.10   5  3.9120   \n",
       "3           0.10             213.21                       -0.10   5  3.9558   \n",
       "4           0.11             214.34                       -0.11   5  3.9867   \n",
       "\n",
       "        lon  \n",
       "0  108.9862  \n",
       "1  109.0008  \n",
       "2  109.0083  \n",
       "3  109.0307  \n",
       "4  109.0453  \n",
       "\n",
       "[5 rows x 193 columns]"
      ]
     },
     "execution_count": 3,
     "metadata": {},
     "output_type": "execute_result"
    }
   ],
   "source": [
    "data.head()"
   ]
  },
  {
   "cell_type": "code",
   "execution_count": 8,
   "id": "c00b6745",
   "metadata": {
    "ExecuteTime": {
     "end_time": "2022-11-22T09:03:14.936283Z",
     "start_time": "2022-11-22T09:03:14.898170Z"
    }
   },
   "outputs": [],
   "source": [
    "dt_now = pd.to_datetime(datetime.now(tz=pytz.timezone('Asia/Jakarta')))"
   ]
  },
  {
   "cell_type": "code",
   "execution_count": 12,
   "id": "f7ea6671",
   "metadata": {
    "ExecuteTime": {
     "end_time": "2022-11-22T09:04:04.781491Z",
     "start_time": "2022-11-22T09:04:04.775035Z"
    }
   },
   "outputs": [],
   "source": [
    "if dt_now.minute == 10 :\n",
    "    print('yes')"
   ]
  },
  {
   "cell_type": "code",
   "execution_count": 15,
   "id": "ec74e4fd",
   "metadata": {
    "ExecuteTime": {
     "end_time": "2022-11-22T09:15:51.169006Z",
     "start_time": "2022-11-22T09:15:50.849766Z"
    }
   },
   "outputs": [],
   "source": [
    "df = pd.read_sql(\"\"\" SELECT * FROM data_hackathon.data_source ORDER BY TIME_STAMP DESC LIMIT 60\"\"\", \n",
    "            con=database_connection)# get data last 10 hours"
   ]
  },
  {
   "cell_type": "code",
   "execution_count": 25,
   "id": "ee884065",
   "metadata": {
    "ExecuteTime": {
     "end_time": "2022-11-22T10:06:12.935625Z",
     "start_time": "2022-11-22T10:06:12.928767Z"
    }
   },
   "outputs": [],
   "source": [
    "if dt_now.minute == 10:\n",
    "    print(dt_now.minute)"
   ]
  }
 ],
 "metadata": {
  "kernelspec": {
   "display_name": "mga_hack",
   "language": "python",
   "name": "mga_hack"
  },
  "language_info": {
   "codemirror_mode": {
    "name": "ipython",
    "version": 3
   },
   "file_extension": ".py",
   "mimetype": "text/x-python",
   "name": "python",
   "nbconvert_exporter": "python",
   "pygments_lexer": "ipython3",
   "version": "3.8.10"
  },
  "toc": {
   "base_numbering": 1,
   "nav_menu": {},
   "number_sections": false,
   "sideBar": true,
   "skip_h1_title": false,
   "title_cell": "Table of Contents",
   "title_sidebar": "Contents",
   "toc_cell": false,
   "toc_position": {},
   "toc_section_display": true,
   "toc_window_display": false
  }
 },
 "nbformat": 4,
 "nbformat_minor": 5
}
