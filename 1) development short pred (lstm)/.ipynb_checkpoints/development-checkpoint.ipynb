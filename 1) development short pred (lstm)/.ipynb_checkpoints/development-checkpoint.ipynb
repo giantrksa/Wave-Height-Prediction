{
 "cells": [
  {
   "cell_type": "markdown",
   "id": "e1b3bc8e",
   "metadata": {},
   "source": [
    "# Library and Load Data"
   ]
  },
  {
   "cell_type": "code",
   "execution_count": 1,
   "id": "ea484788",
   "metadata": {
    "ExecuteTime": {
     "end_time": "2022-11-22T08:48:38.955431Z",
     "start_time": "2022-11-22T08:48:38.142899Z"
    }
   },
   "outputs": [],
   "source": [
    "import pandas as pd\n",
    "import numpy as np\n",
    "import matplotlib.pyplot as plt\n",
    "import seaborn as sns\n",
    "import sqlalchemy\n",
    "\n",
    "from sklearn.ensemble import IsolationForest\n",
    "\n",
    "import warnings\n",
    "warnings.filterwarnings('ignore')"
   ]
  },
  {
   "cell_type": "code",
   "execution_count": 2,
   "id": "546c9c62",
   "metadata": {
    "ExecuteTime": {
     "end_time": "2022-11-22T08:48:41.914081Z",
     "start_time": "2022-11-22T08:48:38.958811Z"
    }
   },
   "outputs": [
    {
     "data": {
      "text/html": [
       "<div>\n",
       "<style scoped>\n",
       "    .dataframe tbody tr th:only-of-type {\n",
       "        vertical-align: middle;\n",
       "    }\n",
       "\n",
       "    .dataframe tbody tr th {\n",
       "        vertical-align: top;\n",
       "    }\n",
       "\n",
       "    .dataframe thead th {\n",
       "        text-align: right;\n",
       "    }\n",
       "</style>\n",
       "<table border=\"1\" class=\"dataframe\">\n",
       "  <thead>\n",
       "    <tr style=\"text-align: right;\">\n",
       "      <th></th>\n",
       "      <th>TIME_STAMP</th>\n",
       "      <th>ROLL</th>\n",
       "      <th>PITCH</th>\n",
       "      <th>SPEED_VG</th>\n",
       "      <th>SPEED_LG</th>\n",
       "      <th>SPEED_TG</th>\n",
       "      <th>SPEED_LW</th>\n",
       "      <th>REL_WIND_SPEED</th>\n",
       "      <th>REL_WIND_DIR</th>\n",
       "      <th>COURSE_OVER_GROUND</th>\n",
       "      <th>...</th>\n",
       "      <th>SEA_SURFACE_SALINITY</th>\n",
       "      <th>SEA_SURFACE_TEMP</th>\n",
       "      <th>CURRENT_UV</th>\n",
       "      <th>CURRENT_VV</th>\n",
       "      <th>CURRENT_SPEED</th>\n",
       "      <th>CURRENT_DIRECTION</th>\n",
       "      <th>CURRENT_SPEED_SHIP_HEADING</th>\n",
       "      <th>BN</th>\n",
       "      <th>lat</th>\n",
       "      <th>lon</th>\n",
       "    </tr>\n",
       "  </thead>\n",
       "  <tbody>\n",
       "    <tr>\n",
       "      <th>0</th>\n",
       "      <td>2020-01-01T00:00:00.000Z</td>\n",
       "      <td>-0.246</td>\n",
       "      <td>0.097</td>\n",
       "      <td>11.513</td>\n",
       "      <td>11.513</td>\n",
       "      <td>0.007</td>\n",
       "      <td>11.673</td>\n",
       "      <td>19.029</td>\n",
       "      <td>1.803</td>\n",
       "      <td>25.978</td>\n",
       "      <td>...</td>\n",
       "      <td>33.29</td>\n",
       "      <td>27.10</td>\n",
       "      <td>0.04</td>\n",
       "      <td>0.07</td>\n",
       "      <td>0.08</td>\n",
       "      <td>211.15</td>\n",
       "      <td>-0.08</td>\n",
       "      <td>5</td>\n",
       "      <td>3.8683</td>\n",
       "      <td>108.9862</td>\n",
       "    </tr>\n",
       "    <tr>\n",
       "      <th>1</th>\n",
       "      <td>2020-01-01T00:10:00.000Z</td>\n",
       "      <td>-0.256</td>\n",
       "      <td>0.097</td>\n",
       "      <td>11.470</td>\n",
       "      <td>11.470</td>\n",
       "      <td>-0.055</td>\n",
       "      <td>11.707</td>\n",
       "      <td>19.072</td>\n",
       "      <td>1.200</td>\n",
       "      <td>26.935</td>\n",
       "      <td>...</td>\n",
       "      <td>33.28</td>\n",
       "      <td>27.11</td>\n",
       "      <td>0.05</td>\n",
       "      <td>0.08</td>\n",
       "      <td>0.09</td>\n",
       "      <td>210.94</td>\n",
       "      <td>-0.09</td>\n",
       "      <td>5</td>\n",
       "      <td>3.8977</td>\n",
       "      <td>109.0008</td>\n",
       "    </tr>\n",
       "    <tr>\n",
       "      <th>2</th>\n",
       "      <td>2020-01-01T00:20:00.000Z</td>\n",
       "      <td>-0.225</td>\n",
       "      <td>0.104</td>\n",
       "      <td>11.450</td>\n",
       "      <td>11.450</td>\n",
       "      <td>-0.087</td>\n",
       "      <td>11.670</td>\n",
       "      <td>17.873</td>\n",
       "      <td>0.867</td>\n",
       "      <td>27.317</td>\n",
       "      <td>...</td>\n",
       "      <td>33.28</td>\n",
       "      <td>27.10</td>\n",
       "      <td>0.05</td>\n",
       "      <td>0.08</td>\n",
       "      <td>0.10</td>\n",
       "      <td>211.53</td>\n",
       "      <td>-0.10</td>\n",
       "      <td>5</td>\n",
       "      <td>3.9120</td>\n",
       "      <td>109.0083</td>\n",
       "    </tr>\n",
       "    <tr>\n",
       "      <th>3</th>\n",
       "      <td>2020-01-01T00:30:00.000Z</td>\n",
       "      <td>-0.249</td>\n",
       "      <td>0.103</td>\n",
       "      <td>11.856</td>\n",
       "      <td>11.849</td>\n",
       "      <td>-0.160</td>\n",
       "      <td>12.011</td>\n",
       "      <td>18.446</td>\n",
       "      <td>0.328</td>\n",
       "      <td>26.942</td>\n",
       "      <td>...</td>\n",
       "      <td>33.28</td>\n",
       "      <td>27.10</td>\n",
       "      <td>0.06</td>\n",
       "      <td>0.09</td>\n",
       "      <td>0.10</td>\n",
       "      <td>213.21</td>\n",
       "      <td>-0.10</td>\n",
       "      <td>5</td>\n",
       "      <td>3.9558</td>\n",
       "      <td>109.0307</td>\n",
       "    </tr>\n",
       "    <tr>\n",
       "      <th>4</th>\n",
       "      <td>2020-01-01T00:40:00.000Z</td>\n",
       "      <td>-0.224</td>\n",
       "      <td>0.088</td>\n",
       "      <td>12.438</td>\n",
       "      <td>12.438</td>\n",
       "      <td>-0.142</td>\n",
       "      <td>12.464</td>\n",
       "      <td>18.939</td>\n",
       "      <td>1.746</td>\n",
       "      <td>25.256</td>\n",
       "      <td>...</td>\n",
       "      <td>33.28</td>\n",
       "      <td>27.09</td>\n",
       "      <td>0.06</td>\n",
       "      <td>0.09</td>\n",
       "      <td>0.11</td>\n",
       "      <td>214.34</td>\n",
       "      <td>-0.11</td>\n",
       "      <td>5</td>\n",
       "      <td>3.9867</td>\n",
       "      <td>109.0453</td>\n",
       "    </tr>\n",
       "  </tbody>\n",
       "</table>\n",
       "<p>5 rows × 193 columns</p>\n",
       "</div>"
      ],
      "text/plain": [
       "                 TIME_STAMP   ROLL  PITCH  SPEED_VG  SPEED_LG  SPEED_TG  \\\n",
       "0  2020-01-01T00:00:00.000Z -0.246  0.097    11.513    11.513     0.007   \n",
       "1  2020-01-01T00:10:00.000Z -0.256  0.097    11.470    11.470    -0.055   \n",
       "2  2020-01-01T00:20:00.000Z -0.225  0.104    11.450    11.450    -0.087   \n",
       "3  2020-01-01T00:30:00.000Z -0.249  0.103    11.856    11.849    -0.160   \n",
       "4  2020-01-01T00:40:00.000Z -0.224  0.088    12.438    12.438    -0.142   \n",
       "\n",
       "   SPEED_LW  REL_WIND_SPEED  REL_WIND_DIR  COURSE_OVER_GROUND  ...  \\\n",
       "0    11.673          19.029         1.803              25.978  ...   \n",
       "1    11.707          19.072         1.200              26.935  ...   \n",
       "2    11.670          17.873         0.867              27.317  ...   \n",
       "3    12.011          18.446         0.328              26.942  ...   \n",
       "4    12.464          18.939         1.746              25.256  ...   \n",
       "\n",
       "   SEA_SURFACE_SALINITY  SEA_SURFACE_TEMP  CURRENT_UV  CURRENT_VV  \\\n",
       "0                 33.29             27.10        0.04        0.07   \n",
       "1                 33.28             27.11        0.05        0.08   \n",
       "2                 33.28             27.10        0.05        0.08   \n",
       "3                 33.28             27.10        0.06        0.09   \n",
       "4                 33.28             27.09        0.06        0.09   \n",
       "\n",
       "   CURRENT_SPEED  CURRENT_DIRECTION  CURRENT_SPEED_SHIP_HEADING  BN     lat  \\\n",
       "0           0.08             211.15                       -0.08   5  3.8683   \n",
       "1           0.09             210.94                       -0.09   5  3.8977   \n",
       "2           0.10             211.53                       -0.10   5  3.9120   \n",
       "3           0.10             213.21                       -0.10   5  3.9558   \n",
       "4           0.11             214.34                       -0.11   5  3.9867   \n",
       "\n",
       "        lon  \n",
       "0  108.9862  \n",
       "1  109.0008  \n",
       "2  109.0083  \n",
       "3  109.0307  \n",
       "4  109.0453  \n",
       "\n",
       "[5 rows x 193 columns]"
      ]
     },
     "execution_count": 2,
     "metadata": {},
     "output_type": "execute_result"
    }
   ],
   "source": [
    "# ---- set database connection\n",
    "database_username = 'root'\n",
    "database_password = 'balab'\n",
    "database_ip       = '172.17.0.7'\n",
    "database_name     = 'data_hackathon'\n",
    "database_connection = sqlalchemy.create_engine('mysql+mysqlconnector://{0}:{1}@{2}/{3}'.\n",
    "                                               format(database_username, database_password,\n",
    "                                                      database_ip, database_name))\n",
    "data = pd.read_sql('select * from data_source',con=database_connection)\n",
    "data.head()"
   ]
  },
  {
   "cell_type": "code",
   "execution_count": 4,
   "id": "7d3ebadb",
   "metadata": {
    "ExecuteTime": {
     "end_time": "2022-11-22T08:49:18.880083Z",
     "start_time": "2022-11-22T08:49:18.871143Z"
    }
   },
   "outputs": [],
   "source": [
    "# LIST FEATURES\n",
    "\n",
    "LIST_FEATURES = ['CURRENT_UV',\n",
    " 'CURRENT_SPEED',\n",
    " 'SPEED_VG',\n",
    " 'SPEED_LW',\n",
    " 'REL_WIND_SPEED',\n",
    " 'TOTAL_WAVE_HEIGHT',\n",
    " 'TOTAL_WAVE_DIRECTION',\n",
    " 'TOTAL_WAVE_PERIOD',\n",
    " 'WIND_UV',\n",
    " 'WIND_SPEED',\n",
    " 'PRESSURE_SURFACE',\n",
    " 'PRESSURE_MSL',\n",
    " 'SEA_SURFACE_SALINITY',\n",
    " 'ME1_RPM',\n",
    " 'ME1_FOC']"
   ]
  },
  {
   "cell_type": "code",
   "execution_count": 6,
   "id": "022bc31e",
   "metadata": {
    "ExecuteTime": {
     "end_time": "2022-11-22T08:49:29.312933Z",
     "start_time": "2022-11-22T08:49:29.265008Z"
    }
   },
   "outputs": [
    {
     "data": {
      "text/html": [
       "<div>\n",
       "<style scoped>\n",
       "    .dataframe tbody tr th:only-of-type {\n",
       "        vertical-align: middle;\n",
       "    }\n",
       "\n",
       "    .dataframe tbody tr th {\n",
       "        vertical-align: top;\n",
       "    }\n",
       "\n",
       "    .dataframe thead th {\n",
       "        text-align: right;\n",
       "    }\n",
       "</style>\n",
       "<table border=\"1\" class=\"dataframe\">\n",
       "  <thead>\n",
       "    <tr style=\"text-align: right;\">\n",
       "      <th></th>\n",
       "      <th>TIME_STAMP</th>\n",
       "      <th>CURRENT_UV</th>\n",
       "      <th>CURRENT_SPEED</th>\n",
       "      <th>SPEED_VG</th>\n",
       "      <th>SPEED_LW</th>\n",
       "      <th>REL_WIND_SPEED</th>\n",
       "      <th>TOTAL_WAVE_HEIGHT</th>\n",
       "      <th>TOTAL_WAVE_DIRECTION</th>\n",
       "      <th>TOTAL_WAVE_PERIOD</th>\n",
       "      <th>WIND_UV</th>\n",
       "      <th>WIND_SPEED</th>\n",
       "      <th>PRESSURE_SURFACE</th>\n",
       "      <th>PRESSURE_MSL</th>\n",
       "      <th>SEA_SURFACE_SALINITY</th>\n",
       "      <th>ME1_RPM</th>\n",
       "      <th>ME1_FOC</th>\n",
       "    </tr>\n",
       "  </thead>\n",
       "  <tbody>\n",
       "    <tr>\n",
       "      <th>0</th>\n",
       "      <td>2020-01-01T00:00:00.000Z</td>\n",
       "      <td>0.04</td>\n",
       "      <td>0.08</td>\n",
       "      <td>11.513</td>\n",
       "      <td>11.673</td>\n",
       "      <td>19.029</td>\n",
       "      <td>1.82</td>\n",
       "      <td>28.79</td>\n",
       "      <td>6.65</td>\n",
       "      <td>-4.77</td>\n",
       "      <td>8.70</td>\n",
       "      <td>1012.01</td>\n",
       "      <td>1011.86</td>\n",
       "      <td>33.29</td>\n",
       "      <td>51.060</td>\n",
       "      <td>1821.262</td>\n",
       "    </tr>\n",
       "    <tr>\n",
       "      <th>1</th>\n",
       "      <td>2020-01-01T00:10:00.000Z</td>\n",
       "      <td>0.05</td>\n",
       "      <td>0.09</td>\n",
       "      <td>11.470</td>\n",
       "      <td>11.707</td>\n",
       "      <td>19.072</td>\n",
       "      <td>1.82</td>\n",
       "      <td>28.76</td>\n",
       "      <td>6.66</td>\n",
       "      <td>-4.79</td>\n",
       "      <td>8.68</td>\n",
       "      <td>1012.04</td>\n",
       "      <td>1011.88</td>\n",
       "      <td>33.28</td>\n",
       "      <td>50.970</td>\n",
       "      <td>1831.045</td>\n",
       "    </tr>\n",
       "    <tr>\n",
       "      <th>2</th>\n",
       "      <td>2020-01-01T00:20:00.000Z</td>\n",
       "      <td>0.05</td>\n",
       "      <td>0.10</td>\n",
       "      <td>11.450</td>\n",
       "      <td>11.670</td>\n",
       "      <td>17.873</td>\n",
       "      <td>1.83</td>\n",
       "      <td>28.76</td>\n",
       "      <td>6.67</td>\n",
       "      <td>-4.79</td>\n",
       "      <td>8.66</td>\n",
       "      <td>1012.05</td>\n",
       "      <td>1011.90</td>\n",
       "      <td>33.28</td>\n",
       "      <td>51.120</td>\n",
       "      <td>1817.745</td>\n",
       "    </tr>\n",
       "    <tr>\n",
       "      <th>3</th>\n",
       "      <td>2020-01-01T00:30:00.000Z</td>\n",
       "      <td>0.06</td>\n",
       "      <td>0.10</td>\n",
       "      <td>11.856</td>\n",
       "      <td>12.011</td>\n",
       "      <td>18.446</td>\n",
       "      <td>1.83</td>\n",
       "      <td>28.75</td>\n",
       "      <td>6.68</td>\n",
       "      <td>-4.79</td>\n",
       "      <td>8.58</td>\n",
       "      <td>1012.08</td>\n",
       "      <td>1011.93</td>\n",
       "      <td>33.28</td>\n",
       "      <td>54.042</td>\n",
       "      <td>2212.985</td>\n",
       "    </tr>\n",
       "    <tr>\n",
       "      <th>4</th>\n",
       "      <td>2020-01-01T00:40:00.000Z</td>\n",
       "      <td>0.06</td>\n",
       "      <td>0.11</td>\n",
       "      <td>12.438</td>\n",
       "      <td>12.464</td>\n",
       "      <td>18.939</td>\n",
       "      <td>1.83</td>\n",
       "      <td>28.75</td>\n",
       "      <td>6.69</td>\n",
       "      <td>-4.78</td>\n",
       "      <td>8.53</td>\n",
       "      <td>1012.10</td>\n",
       "      <td>1011.95</td>\n",
       "      <td>33.28</td>\n",
       "      <td>56.376</td>\n",
       "      <td>2512.416</td>\n",
       "    </tr>\n",
       "    <tr>\n",
       "      <th>...</th>\n",
       "      <td>...</td>\n",
       "      <td>...</td>\n",
       "      <td>...</td>\n",
       "      <td>...</td>\n",
       "      <td>...</td>\n",
       "      <td>...</td>\n",
       "      <td>...</td>\n",
       "      <td>...</td>\n",
       "      <td>...</td>\n",
       "      <td>...</td>\n",
       "      <td>...</td>\n",
       "      <td>...</td>\n",
       "      <td>...</td>\n",
       "      <td>...</td>\n",
       "      <td>...</td>\n",
       "      <td>...</td>\n",
       "    </tr>\n",
       "    <tr>\n",
       "      <th>24849</th>\n",
       "      <td>2020-06-30T23:10:00.000Z</td>\n",
       "      <td>-0.17</td>\n",
       "      <td>0.17</td>\n",
       "      <td>15.888</td>\n",
       "      <td>15.430</td>\n",
       "      <td>1.989</td>\n",
       "      <td>2.02</td>\n",
       "      <td>167.75</td>\n",
       "      <td>9.61</td>\n",
       "      <td>-5.60</td>\n",
       "      <td>6.50</td>\n",
       "      <td>1021.44</td>\n",
       "      <td>1021.59</td>\n",
       "      <td>36.29</td>\n",
       "      <td>58.710</td>\n",
       "      <td>2510.732</td>\n",
       "    </tr>\n",
       "    <tr>\n",
       "      <th>24850</th>\n",
       "      <td>2020-06-30T23:20:00.000Z</td>\n",
       "      <td>-0.17</td>\n",
       "      <td>0.17</td>\n",
       "      <td>15.873</td>\n",
       "      <td>15.510</td>\n",
       "      <td>1.384</td>\n",
       "      <td>2.02</td>\n",
       "      <td>167.56</td>\n",
       "      <td>9.60</td>\n",
       "      <td>-5.62</td>\n",
       "      <td>6.50</td>\n",
       "      <td>1021.46</td>\n",
       "      <td>1021.61</td>\n",
       "      <td>36.30</td>\n",
       "      <td>58.700</td>\n",
       "      <td>2528.001</td>\n",
       "    </tr>\n",
       "    <tr>\n",
       "      <th>24851</th>\n",
       "      <td>2020-06-30T23:30:00.000Z</td>\n",
       "      <td>-0.18</td>\n",
       "      <td>0.18</td>\n",
       "      <td>15.890</td>\n",
       "      <td>15.441</td>\n",
       "      <td>1.114</td>\n",
       "      <td>2.01</td>\n",
       "      <td>167.18</td>\n",
       "      <td>9.59</td>\n",
       "      <td>-5.63</td>\n",
       "      <td>6.50</td>\n",
       "      <td>1021.45</td>\n",
       "      <td>1021.62</td>\n",
       "      <td>36.30</td>\n",
       "      <td>58.610</td>\n",
       "      <td>2517.221</td>\n",
       "    </tr>\n",
       "    <tr>\n",
       "      <th>24852</th>\n",
       "      <td>2020-06-30T23:40:00.000Z</td>\n",
       "      <td>-0.18</td>\n",
       "      <td>0.18</td>\n",
       "      <td>15.938</td>\n",
       "      <td>15.340</td>\n",
       "      <td>0.754</td>\n",
       "      <td>2.01</td>\n",
       "      <td>166.89</td>\n",
       "      <td>9.58</td>\n",
       "      <td>-5.64</td>\n",
       "      <td>6.50</td>\n",
       "      <td>1021.45</td>\n",
       "      <td>1021.64</td>\n",
       "      <td>36.31</td>\n",
       "      <td>58.790</td>\n",
       "      <td>2546.453</td>\n",
       "    </tr>\n",
       "    <tr>\n",
       "      <th>24853</th>\n",
       "      <td>2020-06-30T23:50:00.000Z</td>\n",
       "      <td>-0.18</td>\n",
       "      <td>0.19</td>\n",
       "      <td>16.060</td>\n",
       "      <td>15.387</td>\n",
       "      <td>0.858</td>\n",
       "      <td>2.00</td>\n",
       "      <td>166.69</td>\n",
       "      <td>9.57</td>\n",
       "      <td>-5.65</td>\n",
       "      <td>6.50</td>\n",
       "      <td>1021.46</td>\n",
       "      <td>1021.66</td>\n",
       "      <td>36.31</td>\n",
       "      <td>58.760</td>\n",
       "      <td>2554.926</td>\n",
       "    </tr>\n",
       "  </tbody>\n",
       "</table>\n",
       "<p>24854 rows × 16 columns</p>\n",
       "</div>"
      ],
      "text/plain": [
       "                     TIME_STAMP  CURRENT_UV  CURRENT_SPEED  SPEED_VG  \\\n",
       "0      2020-01-01T00:00:00.000Z        0.04           0.08    11.513   \n",
       "1      2020-01-01T00:10:00.000Z        0.05           0.09    11.470   \n",
       "2      2020-01-01T00:20:00.000Z        0.05           0.10    11.450   \n",
       "3      2020-01-01T00:30:00.000Z        0.06           0.10    11.856   \n",
       "4      2020-01-01T00:40:00.000Z        0.06           0.11    12.438   \n",
       "...                         ...         ...            ...       ...   \n",
       "24849  2020-06-30T23:10:00.000Z       -0.17           0.17    15.888   \n",
       "24850  2020-06-30T23:20:00.000Z       -0.17           0.17    15.873   \n",
       "24851  2020-06-30T23:30:00.000Z       -0.18           0.18    15.890   \n",
       "24852  2020-06-30T23:40:00.000Z       -0.18           0.18    15.938   \n",
       "24853  2020-06-30T23:50:00.000Z       -0.18           0.19    16.060   \n",
       "\n",
       "       SPEED_LW  REL_WIND_SPEED  TOTAL_WAVE_HEIGHT  TOTAL_WAVE_DIRECTION  \\\n",
       "0        11.673          19.029               1.82                 28.79   \n",
       "1        11.707          19.072               1.82                 28.76   \n",
       "2        11.670          17.873               1.83                 28.76   \n",
       "3        12.011          18.446               1.83                 28.75   \n",
       "4        12.464          18.939               1.83                 28.75   \n",
       "...         ...             ...                ...                   ...   \n",
       "24849    15.430           1.989               2.02                167.75   \n",
       "24850    15.510           1.384               2.02                167.56   \n",
       "24851    15.441           1.114               2.01                167.18   \n",
       "24852    15.340           0.754               2.01                166.89   \n",
       "24853    15.387           0.858               2.00                166.69   \n",
       "\n",
       "       TOTAL_WAVE_PERIOD  WIND_UV  WIND_SPEED  PRESSURE_SURFACE  PRESSURE_MSL  \\\n",
       "0                   6.65    -4.77        8.70           1012.01       1011.86   \n",
       "1                   6.66    -4.79        8.68           1012.04       1011.88   \n",
       "2                   6.67    -4.79        8.66           1012.05       1011.90   \n",
       "3                   6.68    -4.79        8.58           1012.08       1011.93   \n",
       "4                   6.69    -4.78        8.53           1012.10       1011.95   \n",
       "...                  ...      ...         ...               ...           ...   \n",
       "24849               9.61    -5.60        6.50           1021.44       1021.59   \n",
       "24850               9.60    -5.62        6.50           1021.46       1021.61   \n",
       "24851               9.59    -5.63        6.50           1021.45       1021.62   \n",
       "24852               9.58    -5.64        6.50           1021.45       1021.64   \n",
       "24853               9.57    -5.65        6.50           1021.46       1021.66   \n",
       "\n",
       "       SEA_SURFACE_SALINITY  ME1_RPM   ME1_FOC  \n",
       "0                     33.29   51.060  1821.262  \n",
       "1                     33.28   50.970  1831.045  \n",
       "2                     33.28   51.120  1817.745  \n",
       "3                     33.28   54.042  2212.985  \n",
       "4                     33.28   56.376  2512.416  \n",
       "...                     ...      ...       ...  \n",
       "24849                 36.29   58.710  2510.732  \n",
       "24850                 36.30   58.700  2528.001  \n",
       "24851                 36.30   58.610  2517.221  \n",
       "24852                 36.31   58.790  2546.453  \n",
       "24853                 36.31   58.760  2554.926  \n",
       "\n",
       "[24854 rows x 16 columns]"
      ]
     },
     "execution_count": 6,
     "metadata": {},
     "output_type": "execute_result"
    }
   ],
   "source": [
    "df = data[['TIME_STAMP']+LIST_FEATURES]\n",
    "df"
   ]
  },
  {
   "cell_type": "markdown",
   "id": "f3a08774",
   "metadata": {},
   "source": [
    "# Features Generation"
   ]
  },
  {
   "cell_type": "code",
   "execution_count": 9,
   "id": "9f467ab0",
   "metadata": {
    "ExecuteTime": {
     "end_time": "2022-11-22T08:51:07.256368Z",
     "start_time": "2022-11-22T08:51:05.788558Z"
    }
   },
   "outputs": [],
   "source": [
    "# ISOLATION FOREST\n",
    "\n",
    "iso = IsolationForest(contamination=0.1,random_state=4)\n",
    "iso.fit(df.drop(['TIME_STAMP'],axis=1))\n",
    "iso_score = iso.score_samples(df.drop(['TIME_STAMP'],axis=1))\n",
    "iso_binary = iso.predict(df.drop(['TIME_STAMP'],axis=1))\n",
    "\n",
    "df['ISO_SCORE']  = iso_score\n",
    "df['ISO_BINARY'] = iso_binary"
   ]
  },
  {
   "cell_type": "code",
   "execution_count": 11,
   "id": "ad5c29d1",
   "metadata": {
    "ExecuteTime": {
     "end_time": "2022-11-22T08:51:29.079453Z",
     "start_time": "2022-11-22T08:51:27.517758Z"
    }
   },
   "outputs": [],
   "source": [
    "# DAY or NIGHT\n",
    "\n",
    "df['DAY_NIGHT']  = df['TIME_STAMP'].apply(lambda x : 1 if 6<=pd.to_datetime(x).hour<=12 else 0)\n",
    "df['TIME_STAMP'] = pd.to_datetime(df['TIME_STAMP'])"
   ]
  },
  {
   "cell_type": "code",
   "execution_count": 13,
   "id": "5cae0602",
   "metadata": {
    "ExecuteTime": {
     "end_time": "2022-11-22T08:51:38.973834Z",
     "start_time": "2022-11-22T08:51:38.934040Z"
    }
   },
   "outputs": [
    {
     "data": {
      "text/html": [
       "<div>\n",
       "<style scoped>\n",
       "    .dataframe tbody tr th:only-of-type {\n",
       "        vertical-align: middle;\n",
       "    }\n",
       "\n",
       "    .dataframe tbody tr th {\n",
       "        vertical-align: top;\n",
       "    }\n",
       "\n",
       "    .dataframe thead th {\n",
       "        text-align: right;\n",
       "    }\n",
       "</style>\n",
       "<table border=\"1\" class=\"dataframe\">\n",
       "  <thead>\n",
       "    <tr style=\"text-align: right;\">\n",
       "      <th></th>\n",
       "      <th>TIME_STAMP</th>\n",
       "      <th>CURRENT_UV</th>\n",
       "      <th>CURRENT_SPEED</th>\n",
       "      <th>SPEED_VG</th>\n",
       "      <th>SPEED_LW</th>\n",
       "      <th>REL_WIND_SPEED</th>\n",
       "      <th>TOTAL_WAVE_HEIGHT</th>\n",
       "      <th>TOTAL_WAVE_DIRECTION</th>\n",
       "      <th>TOTAL_WAVE_PERIOD</th>\n",
       "      <th>WIND_UV</th>\n",
       "      <th>WIND_SPEED</th>\n",
       "      <th>PRESSURE_SURFACE</th>\n",
       "      <th>PRESSURE_MSL</th>\n",
       "      <th>SEA_SURFACE_SALINITY</th>\n",
       "      <th>ME1_RPM</th>\n",
       "      <th>ME1_FOC</th>\n",
       "      <th>ISO_SCORE</th>\n",
       "      <th>ISO_BINARY</th>\n",
       "      <th>DAY_NIGHT</th>\n",
       "    </tr>\n",
       "  </thead>\n",
       "  <tbody>\n",
       "    <tr>\n",
       "      <th>0</th>\n",
       "      <td>2020-01-01 00:00:00+00:00</td>\n",
       "      <td>0.04</td>\n",
       "      <td>0.08</td>\n",
       "      <td>11.513</td>\n",
       "      <td>11.673</td>\n",
       "      <td>19.029</td>\n",
       "      <td>1.82</td>\n",
       "      <td>28.79</td>\n",
       "      <td>6.65</td>\n",
       "      <td>-4.77</td>\n",
       "      <td>8.70</td>\n",
       "      <td>1012.01</td>\n",
       "      <td>1011.86</td>\n",
       "      <td>33.29</td>\n",
       "      <td>51.060</td>\n",
       "      <td>1821.262</td>\n",
       "      <td>-0.437699</td>\n",
       "      <td>1</td>\n",
       "      <td>0</td>\n",
       "    </tr>\n",
       "    <tr>\n",
       "      <th>1</th>\n",
       "      <td>2020-01-01 00:10:00+00:00</td>\n",
       "      <td>0.05</td>\n",
       "      <td>0.09</td>\n",
       "      <td>11.470</td>\n",
       "      <td>11.707</td>\n",
       "      <td>19.072</td>\n",
       "      <td>1.82</td>\n",
       "      <td>28.76</td>\n",
       "      <td>6.66</td>\n",
       "      <td>-4.79</td>\n",
       "      <td>8.68</td>\n",
       "      <td>1012.04</td>\n",
       "      <td>1011.88</td>\n",
       "      <td>33.28</td>\n",
       "      <td>50.970</td>\n",
       "      <td>1831.045</td>\n",
       "      <td>-0.438397</td>\n",
       "      <td>1</td>\n",
       "      <td>0</td>\n",
       "    </tr>\n",
       "    <tr>\n",
       "      <th>2</th>\n",
       "      <td>2020-01-01 00:20:00+00:00</td>\n",
       "      <td>0.05</td>\n",
       "      <td>0.10</td>\n",
       "      <td>11.450</td>\n",
       "      <td>11.670</td>\n",
       "      <td>17.873</td>\n",
       "      <td>1.83</td>\n",
       "      <td>28.76</td>\n",
       "      <td>6.67</td>\n",
       "      <td>-4.79</td>\n",
       "      <td>8.66</td>\n",
       "      <td>1012.05</td>\n",
       "      <td>1011.90</td>\n",
       "      <td>33.28</td>\n",
       "      <td>51.120</td>\n",
       "      <td>1817.745</td>\n",
       "      <td>-0.438529</td>\n",
       "      <td>1</td>\n",
       "      <td>0</td>\n",
       "    </tr>\n",
       "    <tr>\n",
       "      <th>3</th>\n",
       "      <td>2020-01-01 00:30:00+00:00</td>\n",
       "      <td>0.06</td>\n",
       "      <td>0.10</td>\n",
       "      <td>11.856</td>\n",
       "      <td>12.011</td>\n",
       "      <td>18.446</td>\n",
       "      <td>1.83</td>\n",
       "      <td>28.75</td>\n",
       "      <td>6.68</td>\n",
       "      <td>-4.79</td>\n",
       "      <td>8.58</td>\n",
       "      <td>1012.08</td>\n",
       "      <td>1011.93</td>\n",
       "      <td>33.28</td>\n",
       "      <td>54.042</td>\n",
       "      <td>2212.985</td>\n",
       "      <td>-0.444822</td>\n",
       "      <td>1</td>\n",
       "      <td>0</td>\n",
       "    </tr>\n",
       "    <tr>\n",
       "      <th>4</th>\n",
       "      <td>2020-01-01 00:40:00+00:00</td>\n",
       "      <td>0.06</td>\n",
       "      <td>0.11</td>\n",
       "      <td>12.438</td>\n",
       "      <td>12.464</td>\n",
       "      <td>18.939</td>\n",
       "      <td>1.83</td>\n",
       "      <td>28.75</td>\n",
       "      <td>6.69</td>\n",
       "      <td>-4.78</td>\n",
       "      <td>8.53</td>\n",
       "      <td>1012.10</td>\n",
       "      <td>1011.95</td>\n",
       "      <td>33.28</td>\n",
       "      <td>56.376</td>\n",
       "      <td>2512.416</td>\n",
       "      <td>-0.460619</td>\n",
       "      <td>1</td>\n",
       "      <td>0</td>\n",
       "    </tr>\n",
       "  </tbody>\n",
       "</table>\n",
       "</div>"
      ],
      "text/plain": [
       "                 TIME_STAMP  CURRENT_UV  CURRENT_SPEED  SPEED_VG  SPEED_LW  \\\n",
       "0 2020-01-01 00:00:00+00:00        0.04           0.08    11.513    11.673   \n",
       "1 2020-01-01 00:10:00+00:00        0.05           0.09    11.470    11.707   \n",
       "2 2020-01-01 00:20:00+00:00        0.05           0.10    11.450    11.670   \n",
       "3 2020-01-01 00:30:00+00:00        0.06           0.10    11.856    12.011   \n",
       "4 2020-01-01 00:40:00+00:00        0.06           0.11    12.438    12.464   \n",
       "\n",
       "   REL_WIND_SPEED  TOTAL_WAVE_HEIGHT  TOTAL_WAVE_DIRECTION  TOTAL_WAVE_PERIOD  \\\n",
       "0          19.029               1.82                 28.79               6.65   \n",
       "1          19.072               1.82                 28.76               6.66   \n",
       "2          17.873               1.83                 28.76               6.67   \n",
       "3          18.446               1.83                 28.75               6.68   \n",
       "4          18.939               1.83                 28.75               6.69   \n",
       "\n",
       "   WIND_UV  WIND_SPEED  PRESSURE_SURFACE  PRESSURE_MSL  SEA_SURFACE_SALINITY  \\\n",
       "0    -4.77        8.70           1012.01       1011.86                 33.29   \n",
       "1    -4.79        8.68           1012.04       1011.88                 33.28   \n",
       "2    -4.79        8.66           1012.05       1011.90                 33.28   \n",
       "3    -4.79        8.58           1012.08       1011.93                 33.28   \n",
       "4    -4.78        8.53           1012.10       1011.95                 33.28   \n",
       "\n",
       "   ME1_RPM   ME1_FOC  ISO_SCORE  ISO_BINARY  DAY_NIGHT  \n",
       "0   51.060  1821.262  -0.437699           1          0  \n",
       "1   50.970  1831.045  -0.438397           1          0  \n",
       "2   51.120  1817.745  -0.438529           1          0  \n",
       "3   54.042  2212.985  -0.444822           1          0  \n",
       "4   56.376  2512.416  -0.460619           1          0  "
      ]
     },
     "execution_count": 13,
     "metadata": {},
     "output_type": "execute_result"
    }
   ],
   "source": [
    "df.head()"
   ]
  },
  {
   "cell_type": "markdown",
   "id": "f461c373",
   "metadata": {},
   "source": [
    "# Produce Model\n",
    "\n",
    "### input windows = last 60\n",
    "### prediction ts+1"
   ]
  },
  {
   "cell_type": "code",
   "execution_count": 15,
   "id": "3f4d4291",
   "metadata": {
    "ExecuteTime": {
     "end_time": "2022-11-22T08:53:20.879636Z",
     "start_time": "2022-11-22T08:53:18.518021Z"
    }
   },
   "outputs": [
    {
     "name": "stderr",
     "output_type": "stream",
     "text": [
      "2022-11-22 08:53:18.544610: I tensorflow/core/platform/cpu_feature_guard.cc:193] This TensorFlow binary is optimized with oneAPI Deep Neural Network Library (oneDNN) to use the following CPU instructions in performance-critical operations:  AVX2 AVX512F FMA\n",
      "To enable them in other operations, rebuild TensorFlow with the appropriate compiler flags.\n",
      "2022-11-22 08:53:19.015641: E tensorflow/stream_executor/cuda/cuda_blas.cc:2981] Unable to register cuBLAS factory: Attempting to register factory for plugin cuBLAS when one has already been registered\n",
      "2022-11-22 08:53:20.000607: W tensorflow/stream_executor/platform/default/dso_loader.cc:64] Could not load dynamic library 'libnvinfer.so.7'; dlerror: libnvinfer.so.7: cannot open shared object file: No such file or directory; LD_LIBRARY_PATH: /usr/local/nvidia/lib:/usr/local/nvidia/lib64:/usr/local/cuda/extras/CUPTI/lib64\n",
      "2022-11-22 08:53:20.000820: W tensorflow/stream_executor/platform/default/dso_loader.cc:64] Could not load dynamic library 'libnvinfer_plugin.so.7'; dlerror: libnvinfer_plugin.so.7: cannot open shared object file: No such file or directory; LD_LIBRARY_PATH: /usr/local/nvidia/lib:/usr/local/nvidia/lib64:/usr/local/cuda/extras/CUPTI/lib64\n",
      "2022-11-22 08:53:20.000831: W tensorflow/compiler/tf2tensorrt/utils/py_utils.cc:38] TF-TRT Warning: Cannot dlopen some TensorRT libraries. If you would like to use Nvidia GPU with TensorRT, please make sure the missing libraries mentioned above are installed properly.\n"
     ]
    }
   ],
   "source": [
    "from keras.preprocessing.sequence import TimeseriesGenerator\n",
    "from numpy import hstack"
   ]
  },
  {
   "cell_type": "code",
   "execution_count": 16,
   "id": "bbadceb0",
   "metadata": {
    "ExecuteTime": {
     "end_time": "2022-11-22T08:53:20.887618Z",
     "start_time": "2022-11-22T08:53:20.882491Z"
    }
   },
   "outputs": [],
   "source": [
    "windows = 60\n",
    "\n",
    "#normalization function\n",
    "def norm(x,data):\n",
    "  xn = (x - min(data)) / (max(data) - min(data))\n",
    "  return xn\n",
    "def inv_norm(xn,data) :\n",
    "  x = (xn*(max(data) - min(data))) + min(data)\n",
    "  return x"
   ]
  },
  {
   "cell_type": "code",
   "execution_count": 18,
   "id": "9a1900ea",
   "metadata": {
    "ExecuteTime": {
     "end_time": "2022-11-22T08:53:50.486066Z",
     "start_time": "2022-11-22T08:53:50.473997Z"
    }
   },
   "outputs": [],
   "source": [
    "train_data = df[:-1000]\n",
    "test_data = df[-1000:]\n",
    "\n",
    "train_time = df[:-1000]['TIME_STAMP']\n",
    "test_time = df[-1000:]['TIME_STAMP']"
   ]
  },
  {
   "cell_type": "code",
   "execution_count": 19,
   "id": "12cdf1b3",
   "metadata": {
    "ExecuteTime": {
     "end_time": "2022-11-22T08:53:58.527510Z",
     "start_time": "2022-11-22T08:53:58.486831Z"
    }
   },
   "outputs": [
    {
     "data": {
      "text/html": [
       "<div>\n",
       "<style scoped>\n",
       "    .dataframe tbody tr th:only-of-type {\n",
       "        vertical-align: middle;\n",
       "    }\n",
       "\n",
       "    .dataframe tbody tr th {\n",
       "        vertical-align: top;\n",
       "    }\n",
       "\n",
       "    .dataframe thead th {\n",
       "        text-align: right;\n",
       "    }\n",
       "</style>\n",
       "<table border=\"1\" class=\"dataframe\">\n",
       "  <thead>\n",
       "    <tr style=\"text-align: right;\">\n",
       "      <th></th>\n",
       "      <th>TIME_STAMP</th>\n",
       "      <th>CURRENT_UV</th>\n",
       "      <th>CURRENT_SPEED</th>\n",
       "      <th>SPEED_VG</th>\n",
       "      <th>SPEED_LW</th>\n",
       "      <th>REL_WIND_SPEED</th>\n",
       "      <th>TOTAL_WAVE_HEIGHT</th>\n",
       "      <th>TOTAL_WAVE_DIRECTION</th>\n",
       "      <th>TOTAL_WAVE_PERIOD</th>\n",
       "      <th>WIND_UV</th>\n",
       "      <th>WIND_SPEED</th>\n",
       "      <th>PRESSURE_SURFACE</th>\n",
       "      <th>PRESSURE_MSL</th>\n",
       "      <th>SEA_SURFACE_SALINITY</th>\n",
       "      <th>ME1_RPM</th>\n",
       "      <th>ME1_FOC</th>\n",
       "      <th>ISO_SCORE</th>\n",
       "      <th>ISO_BINARY</th>\n",
       "      <th>DAY_NIGHT</th>\n",
       "    </tr>\n",
       "  </thead>\n",
       "  <tbody>\n",
       "    <tr>\n",
       "      <th>0</th>\n",
       "      <td>2020-01-01 00:00:00+00:00</td>\n",
       "      <td>0.04</td>\n",
       "      <td>0.08</td>\n",
       "      <td>11.513</td>\n",
       "      <td>11.673</td>\n",
       "      <td>19.029</td>\n",
       "      <td>1.82</td>\n",
       "      <td>28.79</td>\n",
       "      <td>6.65</td>\n",
       "      <td>-4.77</td>\n",
       "      <td>8.70</td>\n",
       "      <td>1012.01</td>\n",
       "      <td>1011.86</td>\n",
       "      <td>33.29</td>\n",
       "      <td>51.060</td>\n",
       "      <td>1821.262</td>\n",
       "      <td>-0.437699</td>\n",
       "      <td>1</td>\n",
       "      <td>0</td>\n",
       "    </tr>\n",
       "    <tr>\n",
       "      <th>1</th>\n",
       "      <td>2020-01-01 00:10:00+00:00</td>\n",
       "      <td>0.05</td>\n",
       "      <td>0.09</td>\n",
       "      <td>11.470</td>\n",
       "      <td>11.707</td>\n",
       "      <td>19.072</td>\n",
       "      <td>1.82</td>\n",
       "      <td>28.76</td>\n",
       "      <td>6.66</td>\n",
       "      <td>-4.79</td>\n",
       "      <td>8.68</td>\n",
       "      <td>1012.04</td>\n",
       "      <td>1011.88</td>\n",
       "      <td>33.28</td>\n",
       "      <td>50.970</td>\n",
       "      <td>1831.045</td>\n",
       "      <td>-0.438397</td>\n",
       "      <td>1</td>\n",
       "      <td>0</td>\n",
       "    </tr>\n",
       "    <tr>\n",
       "      <th>2</th>\n",
       "      <td>2020-01-01 00:20:00+00:00</td>\n",
       "      <td>0.05</td>\n",
       "      <td>0.10</td>\n",
       "      <td>11.450</td>\n",
       "      <td>11.670</td>\n",
       "      <td>17.873</td>\n",
       "      <td>1.83</td>\n",
       "      <td>28.76</td>\n",
       "      <td>6.67</td>\n",
       "      <td>-4.79</td>\n",
       "      <td>8.66</td>\n",
       "      <td>1012.05</td>\n",
       "      <td>1011.90</td>\n",
       "      <td>33.28</td>\n",
       "      <td>51.120</td>\n",
       "      <td>1817.745</td>\n",
       "      <td>-0.438529</td>\n",
       "      <td>1</td>\n",
       "      <td>0</td>\n",
       "    </tr>\n",
       "    <tr>\n",
       "      <th>3</th>\n",
       "      <td>2020-01-01 00:30:00+00:00</td>\n",
       "      <td>0.06</td>\n",
       "      <td>0.10</td>\n",
       "      <td>11.856</td>\n",
       "      <td>12.011</td>\n",
       "      <td>18.446</td>\n",
       "      <td>1.83</td>\n",
       "      <td>28.75</td>\n",
       "      <td>6.68</td>\n",
       "      <td>-4.79</td>\n",
       "      <td>8.58</td>\n",
       "      <td>1012.08</td>\n",
       "      <td>1011.93</td>\n",
       "      <td>33.28</td>\n",
       "      <td>54.042</td>\n",
       "      <td>2212.985</td>\n",
       "      <td>-0.444822</td>\n",
       "      <td>1</td>\n",
       "      <td>0</td>\n",
       "    </tr>\n",
       "    <tr>\n",
       "      <th>4</th>\n",
       "      <td>2020-01-01 00:40:00+00:00</td>\n",
       "      <td>0.06</td>\n",
       "      <td>0.11</td>\n",
       "      <td>12.438</td>\n",
       "      <td>12.464</td>\n",
       "      <td>18.939</td>\n",
       "      <td>1.83</td>\n",
       "      <td>28.75</td>\n",
       "      <td>6.69</td>\n",
       "      <td>-4.78</td>\n",
       "      <td>8.53</td>\n",
       "      <td>1012.10</td>\n",
       "      <td>1011.95</td>\n",
       "      <td>33.28</td>\n",
       "      <td>56.376</td>\n",
       "      <td>2512.416</td>\n",
       "      <td>-0.460619</td>\n",
       "      <td>1</td>\n",
       "      <td>0</td>\n",
       "    </tr>\n",
       "  </tbody>\n",
       "</table>\n",
       "</div>"
      ],
      "text/plain": [
       "                 TIME_STAMP  CURRENT_UV  CURRENT_SPEED  SPEED_VG  SPEED_LW  \\\n",
       "0 2020-01-01 00:00:00+00:00        0.04           0.08    11.513    11.673   \n",
       "1 2020-01-01 00:10:00+00:00        0.05           0.09    11.470    11.707   \n",
       "2 2020-01-01 00:20:00+00:00        0.05           0.10    11.450    11.670   \n",
       "3 2020-01-01 00:30:00+00:00        0.06           0.10    11.856    12.011   \n",
       "4 2020-01-01 00:40:00+00:00        0.06           0.11    12.438    12.464   \n",
       "\n",
       "   REL_WIND_SPEED  TOTAL_WAVE_HEIGHT  TOTAL_WAVE_DIRECTION  TOTAL_WAVE_PERIOD  \\\n",
       "0          19.029               1.82                 28.79               6.65   \n",
       "1          19.072               1.82                 28.76               6.66   \n",
       "2          17.873               1.83                 28.76               6.67   \n",
       "3          18.446               1.83                 28.75               6.68   \n",
       "4          18.939               1.83                 28.75               6.69   \n",
       "\n",
       "   WIND_UV  WIND_SPEED  PRESSURE_SURFACE  PRESSURE_MSL  SEA_SURFACE_SALINITY  \\\n",
       "0    -4.77        8.70           1012.01       1011.86                 33.29   \n",
       "1    -4.79        8.68           1012.04       1011.88                 33.28   \n",
       "2    -4.79        8.66           1012.05       1011.90                 33.28   \n",
       "3    -4.79        8.58           1012.08       1011.93                 33.28   \n",
       "4    -4.78        8.53           1012.10       1011.95                 33.28   \n",
       "\n",
       "   ME1_RPM   ME1_FOC  ISO_SCORE  ISO_BINARY  DAY_NIGHT  \n",
       "0   51.060  1821.262  -0.437699           1          0  \n",
       "1   50.970  1831.045  -0.438397           1          0  \n",
       "2   51.120  1817.745  -0.438529           1          0  \n",
       "3   54.042  2212.985  -0.444822           1          0  \n",
       "4   56.376  2512.416  -0.460619           1          0  "
      ]
     },
     "execution_count": 19,
     "metadata": {},
     "output_type": "execute_result"
    }
   ],
   "source": [
    "train_data.head()"
   ]
  },
  {
   "cell_type": "markdown",
   "id": "dec7fd62",
   "metadata": {},
   "source": [
    "## Build Train Data"
   ]
  },
  {
   "cell_type": "code",
   "execution_count": 20,
   "id": "3374d8b0",
   "metadata": {
    "ExecuteTime": {
     "end_time": "2022-11-22T08:54:13.703037Z",
     "start_time": "2022-11-22T08:54:13.668213Z"
    }
   },
   "outputs": [],
   "source": [
    "def create_generator(df):\n",
    "    # define dataset\n",
    "    in_seq1 = np.array(norm(train_data['TOTAL_WAVE_HEIGHT'],df['TOTAL_WAVE_HEIGHT']))\n",
    "    \n",
    "    in_seq2 = np.array(norm(train_data['CURRENT_UV'],df['CURRENT_UV']))\n",
    "    in_seq3 = np.array(norm(train_data['CURRENT_SPEED'],df['CURRENT_SPEED']))\n",
    "    in_seq4 = np.array(norm(train_data['SPEED_VG'],df['SPEED_VG']))\n",
    "    in_seq5 = np.array(norm(train_data['SPEED_LW'],df['SPEED_LW']))\n",
    "    in_seq6 = np.array(norm(train_data['REL_WIND_SPEED'],df['REL_WIND_SPEED']))\n",
    "    in_seq7 = np.array(norm(train_data['TOTAL_WAVE_DIRECTION'],df['TOTAL_WAVE_DIRECTION']))\n",
    "    in_seq8 = np.array(norm(train_data['TOTAL_WAVE_PERIOD'],df['TOTAL_WAVE_PERIOD']))\n",
    "    in_seq9 = np.array(norm(train_data['WIND_UV'],df['WIND_UV']))\n",
    "    in_seq10 = np.array(norm(train_data['WIND_SPEED'],df['WIND_SPEED']))\n",
    "    in_seq11 = np.array(norm(train_data['PRESSURE_SURFACE'],df['PRESSURE_SURFACE']))\n",
    "    in_seq12 = np.array(norm(train_data['PRESSURE_MSL'],df['PRESSURE_MSL']))\n",
    "    in_seq13 = np.array(norm(train_data['SEA_SURFACE_SALINITY'],df['SEA_SURFACE_SALINITY']))\n",
    "    in_seq14 = np.array(norm(train_data['ME1_RPM'],df['ME1_RPM']))\n",
    "    in_seq15 = np.array(norm(train_data['ME1_FOC'],df['ME1_FOC']))\n",
    "    in_seq16 = np.array(norm(train_data['ISO_SCORE'],df['ISO_SCORE']))\n",
    "    in_seq17 = np.array(norm(train_data['ISO_BINARY'],df['ISO_BINARY']))\n",
    "    in_seq18 = np.array(norm(train_data['DAY_NIGHT'],df['DAY_NIGHT']))\n",
    "\n",
    "\n",
    "    # reshape series\n",
    "    in_seq1 = in_seq1.reshape((len(in_seq1), 1))\n",
    "    in_seq2 = in_seq2.reshape((len(in_seq2), 1))\n",
    "    in_seq3 = in_seq3.reshape((len(in_seq3), 1))\n",
    "    in_seq4 = in_seq4.reshape((len(in_seq4), 1))\n",
    "    in_seq5 = in_seq5.reshape((len(in_seq5), 1))\n",
    "    \n",
    "    in_seq6 = in_seq6.reshape((len(in_seq6), 1))\n",
    "    in_seq7 = in_seq7.reshape((len(in_seq7), 1))\n",
    "    in_seq8 = in_seq8.reshape((len(in_seq8), 1))\n",
    "    in_seq9 = in_seq9.reshape((len(in_seq9), 1))\n",
    "    in_seq10 = in_seq10.reshape((len(in_seq10), 1))\n",
    "    \n",
    "    in_seq11 = in_seq11.reshape((len(in_seq11), 1))\n",
    "    in_seq12 = in_seq12.reshape((len(in_seq12), 1))\n",
    "    in_seq13 = in_seq13.reshape((len(in_seq13), 1))\n",
    "    in_seq14 = in_seq14.reshape((len(in_seq14), 1))\n",
    "    in_seq15 = in_seq15.reshape((len(in_seq15), 1))\n",
    "    \n",
    "    in_seq16 = in_seq16.reshape((len(in_seq16), 1))\n",
    "    in_seq17 = in_seq17.reshape((len(in_seq17), 1))\n",
    "    in_seq18 = in_seq18.reshape((len(in_seq18), 1))\n",
    "\n",
    "    \n",
    "    \n",
    "    # horizontally stack columns\n",
    "    dataset = hstack((in_seq1,in_seq2, in_seq3, in_seq4, in_seq5, in_seq6, in_seq7, in_seq8, in_seq9, in_seq10, in_seq11, in_seq12, in_seq13, in_seq14, in_seq15, in_seq16, in_seq17, in_seq18))\n",
    "\n",
    "    # define generator\n",
    "    n_features = dataset.shape[1]\n",
    "    np.random.seed(101)\n",
    "    generator = TimeseriesGenerator(dataset, in_seq1, length=windows, batch_size=64, shuffle=True)\n",
    "    return generator, in_seq1"
   ]
  },
  {
   "cell_type": "code",
   "execution_count": 21,
   "id": "e47ffe29",
   "metadata": {
    "ExecuteTime": {
     "end_time": "2022-11-22T08:54:24.214449Z",
     "start_time": "2022-11-22T08:54:24.002585Z"
    }
   },
   "outputs": [],
   "source": [
    "generator, _1 = create_generator(df)"
   ]
  },
  {
   "cell_type": "markdown",
   "id": "461ad6f8",
   "metadata": {},
   "source": [
    "## Prepare Test Data"
   ]
  },
  {
   "cell_type": "code",
   "execution_count": 22,
   "id": "2d8e3bb5",
   "metadata": {
    "ExecuteTime": {
     "end_time": "2022-11-22T08:57:04.556829Z",
     "start_time": "2022-11-22T08:57:04.513748Z"
    }
   },
   "outputs": [],
   "source": [
    "def create_test_data(df):\n",
    "    inputs = df[len(df) - len(test_data) - windows:]\n",
    "\n",
    "    # define dataset\n",
    "    in_seq1 = np.array(norm(inputs['TOTAL_WAVE_HEIGHT'],df['TOTAL_WAVE_HEIGHT']))\n",
    "    \n",
    "    in_seq2 = np.array(norm(inputs['CURRENT_UV'],df['CURRENT_UV']))\n",
    "    in_seq3 = np.array(norm(inputs['CURRENT_SPEED'],df['CURRENT_SPEED']))\n",
    "    in_seq4 = np.array(norm(inputs['SPEED_VG'],df['SPEED_VG']))\n",
    "    in_seq5 = np.array(norm(inputs['SPEED_LW'],df['SPEED_LW']))\n",
    "    in_seq6 = np.array(norm(inputs['REL_WIND_SPEED'],df['REL_WIND_SPEED']))\n",
    "    in_seq7 = np.array(norm(inputs['TOTAL_WAVE_DIRECTION'],df['TOTAL_WAVE_DIRECTION']))\n",
    "    in_seq8 = np.array(norm(inputs['TOTAL_WAVE_PERIOD'],df['TOTAL_WAVE_PERIOD']))\n",
    "    in_seq9 = np.array(norm(inputs['WIND_UV'],df['WIND_UV']))\n",
    "    in_seq10 = np.array(norm(inputs['WIND_SPEED'],df['WIND_SPEED']))\n",
    "    in_seq11 = np.array(norm(inputs['PRESSURE_SURFACE'],df['PRESSURE_SURFACE']))\n",
    "    in_seq12 = np.array(norm(inputs['PRESSURE_MSL'],df['PRESSURE_MSL']))\n",
    "    in_seq13 = np.array(norm(inputs['SEA_SURFACE_SALINITY'],df['SEA_SURFACE_SALINITY']))\n",
    "    in_seq14 = np.array(norm(inputs['ME1_RPM'],df['ME1_RPM']))\n",
    "    in_seq15 = np.array(norm(inputs['ME1_FOC'],df['ME1_FOC']))\n",
    "    in_seq16 = np.array(norm(inputs['ISO_SCORE'],df['ISO_SCORE']))\n",
    "    in_seq17 = np.array(norm(inputs['ISO_BINARY'],df['ISO_BINARY']))\n",
    "    in_seq18 = np.array(norm(inputs['DAY_NIGHT'],df['DAY_NIGHT']))\n",
    "\n",
    "    # reshape series\n",
    "    in_seq1 = in_seq1.reshape((len(in_seq1), 1))\n",
    "    in_seq2 = in_seq2.reshape((len(in_seq2), 1))\n",
    "    in_seq3 = in_seq3.reshape((len(in_seq3), 1))\n",
    "    in_seq4 = in_seq4.reshape((len(in_seq4), 1))\n",
    "    in_seq5 = in_seq5.reshape((len(in_seq5), 1))\n",
    "    \n",
    "    in_seq6 = in_seq6.reshape((len(in_seq6), 1))\n",
    "    in_seq7 = in_seq7.reshape((len(in_seq7), 1))\n",
    "    in_seq8 = in_seq8.reshape((len(in_seq8), 1))\n",
    "    in_seq9 = in_seq9.reshape((len(in_seq9), 1))\n",
    "    in_seq10 = in_seq10.reshape((len(in_seq10), 1))\n",
    "    \n",
    "    in_seq11 = in_seq11.reshape((len(in_seq11), 1))\n",
    "    in_seq12 = in_seq12.reshape((len(in_seq12), 1))\n",
    "    in_seq13 = in_seq13.reshape((len(in_seq13), 1))\n",
    "    in_seq14 = in_seq14.reshape((len(in_seq14), 1))\n",
    "    in_seq15 = in_seq15.reshape((len(in_seq15), 1))\n",
    "    \n",
    "    in_seq16 = in_seq16.reshape((len(in_seq16), 1))\n",
    "    in_seq17 = in_seq17.reshape((len(in_seq17), 1))\n",
    "    in_seq18 = in_seq18.reshape((len(in_seq18), 1))\n",
    "\n",
    "    # horizontally stack columns\n",
    "    dataset = hstack((in_seq1,in_seq2, in_seq3, in_seq4, in_seq5, in_seq6, in_seq7, in_seq8, in_seq9, in_seq10, in_seq11, in_seq12, in_seq13, in_seq14, in_seq15, in_seq16, in_seq17, in_seq18))\n",
    "\n",
    "    test_X = []\n",
    "\n",
    "    for i in range(windows, windows+len(test_data)): #windows+len(test_data)=240\n",
    "      test_X.append(dataset[i-windows:i])\n",
    "\n",
    "    test_X = np.array(test_X)\n",
    "    \n",
    "    return test_X"
   ]
  },
  {
   "cell_type": "code",
   "execution_count": 27,
   "id": "3dd7022c",
   "metadata": {
    "ExecuteTime": {
     "end_time": "2022-11-22T08:57:45.252303Z",
     "start_time": "2022-11-22T08:57:45.050161Z"
    }
   },
   "outputs": [
    {
     "data": {
      "text/plain": [
       "(60, 18)"
      ]
     },
     "execution_count": 27,
     "metadata": {},
     "output_type": "execute_result"
    }
   ],
   "source": [
    "test_X = create_test_data(df)\n",
    "test_X[0].shape"
   ]
  },
  {
   "cell_type": "markdown",
   "id": "f34d996f",
   "metadata": {},
   "source": [
    "## Model"
   ]
  },
  {
   "cell_type": "code",
   "execution_count": 28,
   "id": "8ee94865",
   "metadata": {
    "ExecuteTime": {
     "end_time": "2022-11-22T08:57:46.371428Z",
     "start_time": "2022-11-22T08:57:46.361378Z"
    }
   },
   "outputs": [],
   "source": [
    "import tensorflow as tf\n",
    "import keras\n",
    "\n",
    "from keras.models import Sequential, Model\n",
    "from keras.layers import Input, Dense, SimpleRNN, LSTM, Activation, Dropout, Conv1D, GRU\n",
    "from tensorflow.python.keras.utils.vis_utils import plot_model"
   ]
  },
  {
   "cell_type": "code",
   "execution_count": 29,
   "id": "cfab4cb4",
   "metadata": {
    "ExecuteTime": {
     "end_time": "2022-11-22T08:57:47.392662Z",
     "start_time": "2022-11-22T08:57:47.385837Z"
    }
   },
   "outputs": [],
   "source": [
    "# config\n",
    "\n",
    "n_input    = windows\n",
    "n_features = test_X[0].shape[1]"
   ]
  },
  {
   "cell_type": "code",
   "execution_count": 30,
   "id": "0702ac55",
   "metadata": {
    "ExecuteTime": {
     "end_time": "2022-11-22T08:57:52.346895Z",
     "start_time": "2022-11-22T08:57:51.911881Z"
    }
   },
   "outputs": [
    {
     "name": "stdout",
     "output_type": "stream",
     "text": [
      "Model: \"sequential\"\n",
      "_________________________________________________________________\n",
      " Layer (type)                Output Shape              Param #   \n",
      "=================================================================\n",
      " lstm (LSTM)                 (None, 90)                39240     \n",
      "                                                                 \n",
      " dense (Dense)               (None, 1)                 91        \n",
      "                                                                 \n",
      "=================================================================\n",
      "Total params: 39,331\n",
      "Trainable params: 39,331\n",
      "Non-trainable params: 0\n",
      "_________________________________________________________________\n",
      "None\n"
     ]
    }
   ],
   "source": [
    "#-----------------------------------------------------------------------------------\n",
    "# clear session and set random seed\n",
    "tf.keras.backend.clear_session()\n",
    "tf.random.set_seed(51)\n",
    "np.random.seed(51)\n",
    "\n",
    "# define model\n",
    "model = Sequential()\n",
    "model.add(LSTM(90, input_shape=(n_input, n_features)))\n",
    "model.add(Dense(1))\n",
    "\n",
    "\n",
    "optimizer = tf.keras.optimizers.Adam(learning_rate=0.0005)\n",
    "model.compile(optimizer=optimizer, loss='mean_absolute_error', metrics=['mae'])\n",
    "\n",
    "\n",
    "# --------------------- # because our matrix is loss so we use mode=minimize, if our matrix is accuracy so we use max\n",
    "print(model.summary())"
   ]
  },
  {
   "cell_type": "code",
   "execution_count": 31,
   "id": "e7a89056",
   "metadata": {
    "ExecuteTime": {
     "end_time": "2022-11-22T09:13:02.768934Z",
     "start_time": "2022-11-22T08:57:53.463334Z"
    }
   },
   "outputs": [
    {
     "name": "stdout",
     "output_type": "stream",
     "text": [
      "Epoch 1/200\n"
     ]
    },
    {
     "name": "stderr",
     "output_type": "stream",
     "text": [
      "2022-11-22 08:57:56.782224: I tensorflow/stream_executor/cuda/cuda_dnn.cc:384] Loaded cuDNN version 8101\n"
     ]
    },
    {
     "name": "stdout",
     "output_type": "stream",
     "text": [
      "372/372 [==============================] - 9s 12ms/step - loss: 0.0169 - mae: 0.0169\n",
      "Epoch 2/200\n",
      "372/372 [==============================] - 5s 11ms/step - loss: 0.0064 - mae: 0.0064\n",
      "Epoch 3/200\n",
      "372/372 [==============================] - 4s 11ms/step - loss: 0.0056 - mae: 0.0056\n",
      "Epoch 4/200\n",
      "372/372 [==============================] - 4s 11ms/step - loss: 0.0050 - mae: 0.0050\n",
      "Epoch 5/200\n",
      "372/372 [==============================] - 4s 11ms/step - loss: 0.0045 - mae: 0.0045\n",
      "Epoch 6/200\n",
      "372/372 [==============================] - 4s 11ms/step - loss: 0.0035 - mae: 0.0035\n",
      "Epoch 7/200\n",
      "372/372 [==============================] - 4s 11ms/step - loss: 0.0043 - mae: 0.0043\n",
      "Epoch 8/200\n",
      "372/372 [==============================] - 4s 11ms/step - loss: 0.0037 - mae: 0.0037\n",
      "Epoch 9/200\n",
      "372/372 [==============================] - 4s 11ms/step - loss: 0.0037 - mae: 0.0037\n",
      "Epoch 10/200\n",
      "372/372 [==============================] - 4s 12ms/step - loss: 0.0032 - mae: 0.0032\n",
      "Epoch 11/200\n",
      "372/372 [==============================] - 4s 12ms/step - loss: 0.0033 - mae: 0.0033\n",
      "Epoch 12/200\n",
      "372/372 [==============================] - 4s 11ms/step - loss: 0.0031 - mae: 0.0031\n",
      "Epoch 13/200\n",
      "372/372 [==============================] - 5s 12ms/step - loss: 0.0032 - mae: 0.0032\n",
      "Epoch 14/200\n",
      "372/372 [==============================] - 4s 12ms/step - loss: 0.0032 - mae: 0.0032\n",
      "Epoch 15/200\n",
      "372/372 [==============================] - 4s 12ms/step - loss: 0.0028 - mae: 0.0028\n",
      "Epoch 16/200\n",
      "372/372 [==============================] - 4s 12ms/step - loss: 0.0032 - mae: 0.0032\n",
      "Epoch 17/200\n",
      "372/372 [==============================] - 4s 12ms/step - loss: 0.0025 - mae: 0.0025\n",
      "Epoch 18/200\n",
      "372/372 [==============================] - 4s 12ms/step - loss: 0.0025 - mae: 0.0025\n",
      "Epoch 19/200\n",
      "372/372 [==============================] - 4s 11ms/step - loss: 0.0026 - mae: 0.0026\n",
      "Epoch 20/200\n",
      "372/372 [==============================] - 4s 12ms/step - loss: 0.0026 - mae: 0.0026\n",
      "Epoch 21/200\n",
      "372/372 [==============================] - 4s 12ms/step - loss: 0.0023 - mae: 0.0023\n",
      "Epoch 22/200\n",
      "372/372 [==============================] - 4s 11ms/step - loss: 0.0022 - mae: 0.0022\n",
      "Epoch 23/200\n",
      "372/372 [==============================] - 4s 12ms/step - loss: 0.0024 - mae: 0.0024\n",
      "Epoch 24/200\n",
      "372/372 [==============================] - 4s 12ms/step - loss: 0.0023 - mae: 0.0023\n",
      "Epoch 25/200\n",
      "372/372 [==============================] - 4s 11ms/step - loss: 0.0023 - mae: 0.0023\n",
      "Epoch 26/200\n",
      "372/372 [==============================] - 5s 12ms/step - loss: 0.0024 - mae: 0.0024\n",
      "Epoch 27/200\n",
      "372/372 [==============================] - 5s 12ms/step - loss: 0.0024 - mae: 0.0024\n",
      "Epoch 28/200\n",
      "372/372 [==============================] - 4s 11ms/step - loss: 0.0023 - mae: 0.0023\n",
      "Epoch 29/200\n",
      "372/372 [==============================] - 4s 12ms/step - loss: 0.0020 - mae: 0.0020\n",
      "Epoch 30/200\n",
      "372/372 [==============================] - 4s 12ms/step - loss: 0.0021 - mae: 0.0021\n",
      "Epoch 31/200\n",
      "372/372 [==============================] - 4s 12ms/step - loss: 0.0022 - mae: 0.0022\n",
      "Epoch 32/200\n",
      "372/372 [==============================] - 4s 12ms/step - loss: 0.0021 - mae: 0.0021\n",
      "Epoch 33/200\n",
      "372/372 [==============================] - 4s 12ms/step - loss: 0.0018 - mae: 0.0018\n",
      "Epoch 34/200\n",
      "372/372 [==============================] - 4s 11ms/step - loss: 0.0019 - mae: 0.0019\n",
      "Epoch 35/200\n",
      "372/372 [==============================] - 4s 12ms/step - loss: 0.0019 - mae: 0.0019\n",
      "Epoch 36/200\n",
      "372/372 [==============================] - 4s 12ms/step - loss: 0.0021 - mae: 0.0021\n",
      "Epoch 37/200\n",
      "372/372 [==============================] - 4s 12ms/step - loss: 0.0020 - mae: 0.0020\n",
      "Epoch 38/200\n",
      "372/372 [==============================] - 4s 12ms/step - loss: 0.0019 - mae: 0.0019\n",
      "Epoch 39/200\n",
      "372/372 [==============================] - 4s 12ms/step - loss: 0.0019 - mae: 0.0019\n",
      "Epoch 40/200\n",
      "372/372 [==============================] - 5s 12ms/step - loss: 0.0018 - mae: 0.0018\n",
      "Epoch 41/200\n",
      "372/372 [==============================] - 5s 12ms/step - loss: 0.0017 - mae: 0.0017\n",
      "Epoch 42/200\n",
      "372/372 [==============================] - 4s 11ms/step - loss: 0.0019 - mae: 0.0019\n",
      "Epoch 43/200\n",
      "372/372 [==============================] - 4s 12ms/step - loss: 0.0016 - mae: 0.0016\n",
      "Epoch 44/200\n",
      "372/372 [==============================] - 4s 12ms/step - loss: 0.0017 - mae: 0.0017\n",
      "Epoch 45/200\n",
      "372/372 [==============================] - 4s 12ms/step - loss: 0.0014 - mae: 0.0014\n",
      "Epoch 46/200\n",
      "372/372 [==============================] - 4s 12ms/step - loss: 0.0018 - mae: 0.0018\n",
      "Epoch 47/200\n",
      "372/372 [==============================] - 4s 12ms/step - loss: 0.0016 - mae: 0.0016\n",
      "Epoch 48/200\n",
      "372/372 [==============================] - 4s 11ms/step - loss: 0.0016 - mae: 0.0016\n",
      "Epoch 49/200\n",
      "372/372 [==============================] - 4s 12ms/step - loss: 0.0017 - mae: 0.0017\n",
      "Epoch 50/200\n",
      "372/372 [==============================] - 4s 12ms/step - loss: 0.0016 - mae: 0.0016\n",
      "Epoch 51/200\n",
      "372/372 [==============================] - 5s 12ms/step - loss: 0.0016 - mae: 0.0016\n",
      "Epoch 52/200\n",
      "372/372 [==============================] - 4s 11ms/step - loss: 0.0017 - mae: 0.0017\n",
      "Epoch 53/200\n",
      "372/372 [==============================] - 4s 12ms/step - loss: 0.0018 - mae: 0.0018\n",
      "Epoch 54/200\n",
      "372/372 [==============================] - 4s 12ms/step - loss: 0.0016 - mae: 0.0016\n",
      "Epoch 55/200\n",
      "372/372 [==============================] - 4s 11ms/step - loss: 0.0016 - mae: 0.0016\n",
      "Epoch 56/200\n",
      "372/372 [==============================] - 4s 11ms/step - loss: 0.0015 - mae: 0.0015\n",
      "Epoch 57/200\n",
      "372/372 [==============================] - 4s 12ms/step - loss: 0.0015 - mae: 0.0015\n",
      "Epoch 58/200\n",
      "372/372 [==============================] - 5s 12ms/step - loss: 0.0014 - mae: 0.0014\n",
      "Epoch 59/200\n",
      "372/372 [==============================] - 5s 12ms/step - loss: 0.0014 - mae: 0.0014\n",
      "Epoch 60/200\n",
      "372/372 [==============================] - 4s 12ms/step - loss: 0.0014 - mae: 0.0014\n",
      "Epoch 61/200\n",
      "372/372 [==============================] - 4s 12ms/step - loss: 0.0014 - mae: 0.0014\n",
      "Epoch 62/200\n",
      "372/372 [==============================] - 4s 12ms/step - loss: 0.0014 - mae: 0.0014\n",
      "Epoch 63/200\n",
      "372/372 [==============================] - 4s 11ms/step - loss: 0.0014 - mae: 0.0014\n",
      "Epoch 64/200\n",
      "372/372 [==============================] - 4s 12ms/step - loss: 0.0016 - mae: 0.0016\n",
      "Epoch 65/200\n",
      "372/372 [==============================] - 4s 11ms/step - loss: 0.0015 - mae: 0.0015\n",
      "Epoch 66/200\n",
      "372/372 [==============================] - 4s 12ms/step - loss: 0.0015 - mae: 0.0015\n",
      "Epoch 67/200\n",
      "372/372 [==============================] - 5s 12ms/step - loss: 0.0014 - mae: 0.0014\n",
      "Epoch 68/200\n",
      "372/372 [==============================] - 4s 12ms/step - loss: 0.0016 - mae: 0.0016\n",
      "Epoch 69/200\n",
      "372/372 [==============================] - 4s 12ms/step - loss: 0.0014 - mae: 0.0014\n",
      "Epoch 70/200\n",
      "372/372 [==============================] - 4s 12ms/step - loss: 0.0014 - mae: 0.0014\n",
      "Epoch 71/200\n",
      "372/372 [==============================] - 5s 12ms/step - loss: 0.0014 - mae: 0.0014\n",
      "Epoch 72/200\n",
      "372/372 [==============================] - 4s 12ms/step - loss: 0.0012 - mae: 0.0012\n",
      "Epoch 73/200\n",
      "372/372 [==============================] - 4s 12ms/step - loss: 0.0013 - mae: 0.0013\n",
      "Epoch 74/200\n",
      "372/372 [==============================] - 5s 13ms/step - loss: 0.0012 - mae: 0.0012\n",
      "Epoch 75/200\n",
      "372/372 [==============================] - 4s 12ms/step - loss: 0.0013 - mae: 0.0013\n",
      "Epoch 76/200\n",
      "372/372 [==============================] - 4s 12ms/step - loss: 0.0014 - mae: 0.0014\n",
      "Epoch 77/200\n",
      "372/372 [==============================] - 5s 12ms/step - loss: 0.0013 - mae: 0.0013\n",
      "Epoch 78/200\n",
      "372/372 [==============================] - 4s 11ms/step - loss: 0.0014 - mae: 0.0014\n",
      "Epoch 79/200\n",
      "372/372 [==============================] - 4s 12ms/step - loss: 0.0013 - mae: 0.0013\n",
      "Epoch 80/200\n",
      "372/372 [==============================] - 5s 12ms/step - loss: 0.0013 - mae: 0.0013\n",
      "Epoch 81/200\n",
      "372/372 [==============================] - 4s 11ms/step - loss: 0.0013 - mae: 0.0013\n",
      "Epoch 82/200\n",
      "372/372 [==============================] - 4s 12ms/step - loss: 0.0013 - mae: 0.0013\n",
      "Epoch 83/200\n",
      "372/372 [==============================] - 5s 12ms/step - loss: 0.0013 - mae: 0.0013\n",
      "Epoch 84/200\n",
      "372/372 [==============================] - 5s 12ms/step - loss: 0.0014 - mae: 0.0014\n",
      "Epoch 85/200\n",
      "372/372 [==============================] - 4s 11ms/step - loss: 0.0013 - mae: 0.0013\n",
      "Epoch 86/200\n",
      "372/372 [==============================] - 4s 12ms/step - loss: 0.0013 - mae: 0.0013\n",
      "Epoch 87/200\n",
      "372/372 [==============================] - 5s 12ms/step - loss: 0.0013 - mae: 0.0013\n",
      "Epoch 88/200\n",
      "372/372 [==============================] - 4s 12ms/step - loss: 0.0013 - mae: 0.0013\n",
      "Epoch 89/200\n",
      "372/372 [==============================] - 4s 12ms/step - loss: 0.0011 - mae: 0.0011\n",
      "Epoch 90/200\n",
      "372/372 [==============================] - 4s 11ms/step - loss: 0.0012 - mae: 0.0012\n",
      "Epoch 91/200\n",
      "372/372 [==============================] - 4s 12ms/step - loss: 0.0013 - mae: 0.0013\n",
      "Epoch 92/200\n",
      "372/372 [==============================] - 4s 11ms/step - loss: 0.0012 - mae: 0.0012\n",
      "Epoch 93/200\n",
      "372/372 [==============================] - 5s 12ms/step - loss: 0.0012 - mae: 0.0012\n",
      "Epoch 94/200\n",
      "372/372 [==============================] - 4s 11ms/step - loss: 0.0013 - mae: 0.0013\n",
      "Epoch 95/200\n",
      "372/372 [==============================] - 4s 12ms/step - loss: 0.0012 - mae: 0.0012\n",
      "Epoch 96/200\n",
      "372/372 [==============================] - 4s 11ms/step - loss: 0.0013 - mae: 0.0013\n",
      "Epoch 97/200\n",
      "372/372 [==============================] - 5s 12ms/step - loss: 0.0012 - mae: 0.0012\n",
      "Epoch 98/200\n",
      "372/372 [==============================] - 5s 11ms/step - loss: 0.0013 - mae: 0.0013\n",
      "Epoch 99/200\n",
      "372/372 [==============================] - 5s 12ms/step - loss: 0.0012 - mae: 0.0012\n",
      "Epoch 100/200\n",
      "372/372 [==============================] - 5s 12ms/step - loss: 0.0012 - mae: 0.0012\n",
      "Epoch 101/200\n",
      "372/372 [==============================] - 4s 12ms/step - loss: 0.0011 - mae: 0.0011\n",
      "Epoch 102/200\n",
      "372/372 [==============================] - 5s 12ms/step - loss: 0.0012 - mae: 0.0012\n",
      "Epoch 103/200\n",
      "372/372 [==============================] - 5s 12ms/step - loss: 0.0012 - mae: 0.0012\n",
      "Epoch 104/200\n",
      "372/372 [==============================] - 4s 12ms/step - loss: 0.0011 - mae: 0.0011\n",
      "Epoch 105/200\n",
      "372/372 [==============================] - 5s 12ms/step - loss: 0.0011 - mae: 0.0011\n",
      "Epoch 106/200\n",
      "372/372 [==============================] - 5s 12ms/step - loss: 0.0012 - mae: 0.0012\n",
      "Epoch 107/200\n",
      "372/372 [==============================] - 4s 12ms/step - loss: 0.0012 - mae: 0.0012\n",
      "Epoch 108/200\n",
      "372/372 [==============================] - 4s 11ms/step - loss: 0.0011 - mae: 0.0011\n",
      "Epoch 109/200\n",
      "372/372 [==============================] - 4s 11ms/step - loss: 0.0013 - mae: 0.0013\n",
      "Epoch 110/200\n",
      "372/372 [==============================] - 5s 12ms/step - loss: 0.0012 - mae: 0.0012\n",
      "Epoch 111/200\n",
      "372/372 [==============================] - 4s 12ms/step - loss: 0.0011 - mae: 0.0011\n",
      "Epoch 112/200\n",
      "372/372 [==============================] - 4s 11ms/step - loss: 0.0012 - mae: 0.0012\n",
      "Epoch 113/200\n",
      "372/372 [==============================] - 5s 12ms/step - loss: 0.0012 - mae: 0.0012\n",
      "Epoch 114/200\n",
      "372/372 [==============================] - 4s 12ms/step - loss: 0.0012 - mae: 0.0012\n",
      "Epoch 115/200\n",
      "372/372 [==============================] - 5s 12ms/step - loss: 0.0011 - mae: 0.0011\n",
      "Epoch 116/200\n",
      "372/372 [==============================] - 5s 12ms/step - loss: 0.0011 - mae: 0.0011\n",
      "Epoch 117/200\n",
      "372/372 [==============================] - 4s 12ms/step - loss: 0.0011 - mae: 0.0011\n",
      "Epoch 118/200\n",
      "372/372 [==============================] - 4s 12ms/step - loss: 9.9889e-04 - mae: 9.9889e-04\n",
      "Epoch 119/200\n",
      "372/372 [==============================] - 4s 12ms/step - loss: 0.0012 - mae: 0.0012\n",
      "Epoch 120/200\n",
      "372/372 [==============================] - 5s 12ms/step - loss: 0.0010 - mae: 0.0010\n",
      "Epoch 121/200\n",
      "372/372 [==============================] - 4s 11ms/step - loss: 0.0011 - mae: 0.0011\n",
      "Epoch 122/200\n",
      "372/372 [==============================] - 4s 12ms/step - loss: 0.0012 - mae: 0.0012\n",
      "Epoch 123/200\n",
      "372/372 [==============================] - 4s 11ms/step - loss: 0.0011 - mae: 0.0011\n",
      "Epoch 124/200\n",
      "372/372 [==============================] - 5s 12ms/step - loss: 0.0011 - mae: 0.0011\n",
      "Epoch 125/200\n",
      "372/372 [==============================] - 5s 12ms/step - loss: 0.0011 - mae: 0.0011\n",
      "Epoch 126/200\n",
      "372/372 [==============================] - 5s 12ms/step - loss: 0.0012 - mae: 0.0012\n",
      "Epoch 127/200\n",
      "372/372 [==============================] - 4s 11ms/step - loss: 9.8839e-04 - mae: 9.8839e-04\n",
      "Epoch 128/200\n",
      "372/372 [==============================] - 4s 12ms/step - loss: 0.0012 - mae: 0.0012\n",
      "Epoch 129/200\n",
      "372/372 [==============================] - 4s 11ms/step - loss: 0.0012 - mae: 0.0012\n",
      "Epoch 130/200\n",
      "372/372 [==============================] - 5s 12ms/step - loss: 0.0010 - mae: 0.0010\n",
      "Epoch 131/200\n",
      "372/372 [==============================] - 4s 11ms/step - loss: 0.0011 - mae: 0.0011\n",
      "Epoch 132/200\n",
      "372/372 [==============================] - 4s 12ms/step - loss: 0.0011 - mae: 0.0011\n",
      "Epoch 133/200\n",
      "372/372 [==============================] - 5s 12ms/step - loss: 0.0011 - mae: 0.0011\n",
      "Epoch 134/200\n",
      "372/372 [==============================] - 4s 12ms/step - loss: 0.0011 - mae: 0.0011\n",
      "Epoch 135/200\n",
      "372/372 [==============================] - 4s 11ms/step - loss: 0.0010 - mae: 0.0010\n",
      "Epoch 136/200\n",
      "372/372 [==============================] - 5s 12ms/step - loss: 0.0011 - mae: 0.0011\n",
      "Epoch 137/200\n",
      "372/372 [==============================] - 5s 12ms/step - loss: 0.0011 - mae: 0.0011\n",
      "Epoch 138/200\n",
      "372/372 [==============================] - 4s 12ms/step - loss: 0.0010 - mae: 0.0010\n",
      "Epoch 139/200\n",
      "372/372 [==============================] - 4s 12ms/step - loss: 0.0011 - mae: 0.0011\n",
      "Epoch 140/200\n",
      "372/372 [==============================] - 5s 12ms/step - loss: 0.0010 - mae: 0.0010\n",
      "Epoch 141/200\n",
      "372/372 [==============================] - 4s 12ms/step - loss: 0.0011 - mae: 0.0011\n",
      "Epoch 142/200\n",
      "372/372 [==============================] - 4s 12ms/step - loss: 0.0012 - mae: 0.0012\n",
      "Epoch 143/200\n",
      "372/372 [==============================] - 5s 12ms/step - loss: 0.0011 - mae: 0.0011\n",
      "Epoch 144/200\n",
      "372/372 [==============================] - 4s 12ms/step - loss: 0.0010 - mae: 0.0010\n",
      "Epoch 145/200\n",
      "372/372 [==============================] - 4s 11ms/step - loss: 0.0011 - mae: 0.0011\n",
      "Epoch 146/200\n",
      "372/372 [==============================] - 4s 12ms/step - loss: 0.0011 - mae: 0.0011\n",
      "Epoch 147/200\n",
      "372/372 [==============================] - 5s 12ms/step - loss: 0.0010 - mae: 0.0010\n",
      "Epoch 148/200\n",
      "372/372 [==============================] - 4s 12ms/step - loss: 0.0011 - mae: 0.0011\n",
      "Epoch 149/200\n",
      "372/372 [==============================] - 4s 12ms/step - loss: 0.0010 - mae: 0.0010\n",
      "Epoch 150/200\n",
      "372/372 [==============================] - 4s 12ms/step - loss: 0.0011 - mae: 0.0011\n",
      "Epoch 151/200\n",
      "372/372 [==============================] - 4s 11ms/step - loss: 0.0011 - mae: 0.0011\n",
      "Epoch 152/200\n",
      "372/372 [==============================] - 4s 11ms/step - loss: 0.0011 - mae: 0.0011\n",
      "Epoch 153/200\n",
      "372/372 [==============================] - 5s 13ms/step - loss: 9.8337e-04 - mae: 9.8337e-04\n",
      "Epoch 154/200\n",
      "372/372 [==============================] - 4s 11ms/step - loss: 0.0010 - mae: 0.0010\n",
      "Epoch 155/200\n",
      "372/372 [==============================] - 4s 11ms/step - loss: 0.0011 - mae: 0.0011\n",
      "Epoch 156/200\n",
      "372/372 [==============================] - 4s 12ms/step - loss: 0.0011 - mae: 0.0011\n",
      "Epoch 157/200\n",
      "372/372 [==============================] - 5s 12ms/step - loss: 9.7068e-04 - mae: 9.7068e-04\n",
      "Epoch 158/200\n",
      "372/372 [==============================] - 4s 12ms/step - loss: 9.8155e-04 - mae: 9.8155e-04\n",
      "Epoch 159/200\n",
      "372/372 [==============================] - 5s 12ms/step - loss: 0.0010 - mae: 0.0010\n",
      "Epoch 160/200\n",
      "372/372 [==============================] - 4s 11ms/step - loss: 0.0011 - mae: 0.0011\n",
      "Epoch 161/200\n",
      "372/372 [==============================] - 4s 12ms/step - loss: 9.7783e-04 - mae: 9.7783e-04\n",
      "Epoch 162/200\n",
      "372/372 [==============================] - 4s 11ms/step - loss: 0.0010 - mae: 0.0010\n",
      "Epoch 163/200\n",
      "372/372 [==============================] - 5s 12ms/step - loss: 0.0011 - mae: 0.0011\n",
      "Epoch 164/200\n",
      "372/372 [==============================] - 5s 12ms/step - loss: 0.0011 - mae: 0.0011\n",
      "Epoch 165/200\n",
      "372/372 [==============================] - 4s 11ms/step - loss: 0.0011 - mae: 0.0011\n",
      "Epoch 166/200\n"
     ]
    },
    {
     "name": "stdout",
     "output_type": "stream",
     "text": [
      "372/372 [==============================] - 5s 12ms/step - loss: 0.0011 - mae: 0.0011\n",
      "Epoch 167/200\n",
      "372/372 [==============================] - 5s 12ms/step - loss: 0.0010 - mae: 0.0010\n",
      "Epoch 168/200\n",
      "372/372 [==============================] - 4s 12ms/step - loss: 0.0010 - mae: 0.0010\n",
      "Epoch 169/200\n",
      "372/372 [==============================] - 4s 12ms/step - loss: 0.0010 - mae: 0.0010\n",
      "Epoch 170/200\n",
      "372/372 [==============================] - 5s 12ms/step - loss: 9.8455e-04 - mae: 9.8455e-04\n",
      "Epoch 171/200\n",
      "372/372 [==============================] - 4s 11ms/step - loss: 9.3321e-04 - mae: 9.3321e-04\n",
      "Epoch 172/200\n",
      "372/372 [==============================] - 4s 12ms/step - loss: 9.9858e-04 - mae: 9.9858e-04\n",
      "Epoch 173/200\n",
      "372/372 [==============================] - 4s 12ms/step - loss: 0.0011 - mae: 0.0011\n",
      "Epoch 174/200\n",
      "372/372 [==============================] - 4s 11ms/step - loss: 0.0010 - mae: 0.0010\n",
      "Epoch 175/200\n",
      "372/372 [==============================] - 4s 12ms/step - loss: 0.0011 - mae: 0.0011\n",
      "Epoch 176/200\n",
      "372/372 [==============================] - 5s 12ms/step - loss: 0.0010 - mae: 0.0010\n",
      "Epoch 177/200\n",
      "372/372 [==============================] - 4s 12ms/step - loss: 9.9001e-04 - mae: 9.9001e-04\n",
      "Epoch 178/200\n",
      "372/372 [==============================] - 4s 12ms/step - loss: 9.9275e-04 - mae: 9.9275e-04\n",
      "Epoch 179/200\n",
      "372/372 [==============================] - 5s 12ms/step - loss: 0.0011 - mae: 0.0011\n",
      "Epoch 180/200\n",
      "372/372 [==============================] - 5s 12ms/step - loss: 9.8283e-04 - mae: 9.8283e-04\n",
      "Epoch 181/200\n",
      "372/372 [==============================] - 4s 12ms/step - loss: 9.5968e-04 - mae: 9.5968e-04\n",
      "Epoch 182/200\n",
      "372/372 [==============================] - 4s 11ms/step - loss: 0.0010 - mae: 0.0010\n",
      "Epoch 183/200\n",
      "372/372 [==============================] - 4s 11ms/step - loss: 9.1494e-04 - mae: 9.1494e-04\n",
      "Epoch 184/200\n",
      "372/372 [==============================] - 4s 12ms/step - loss: 9.7894e-04 - mae: 9.7894e-04\n",
      "Epoch 185/200\n",
      "372/372 [==============================] - 5s 12ms/step - loss: 0.0010 - mae: 0.0010\n",
      "Epoch 186/200\n",
      "372/372 [==============================] - 5s 12ms/step - loss: 9.8512e-04 - mae: 9.8512e-04\n",
      "Epoch 187/200\n",
      "372/372 [==============================] - 4s 11ms/step - loss: 0.0010 - mae: 0.0010\n",
      "Epoch 188/200\n",
      "372/372 [==============================] - 4s 12ms/step - loss: 0.0010 - mae: 0.0010\n",
      "Epoch 189/200\n",
      "372/372 [==============================] - 5s 12ms/step - loss: 0.0010 - mae: 0.0010  \n",
      "Epoch 190/200\n",
      "372/372 [==============================] - 5s 12ms/step - loss: 0.0010 - mae: 0.0010\n",
      "Epoch 191/200\n",
      "372/372 [==============================] - 4s 12ms/step - loss: 9.8293e-04 - mae: 9.8293e-04\n",
      "Epoch 192/200\n",
      "372/372 [==============================] - 5s 12ms/step - loss: 0.0011 - mae: 0.0011\n",
      "Epoch 193/200\n",
      "372/372 [==============================] - 4s 12ms/step - loss: 0.0010 - mae: 0.0010\n",
      "Epoch 194/200\n",
      "372/372 [==============================] - 5s 12ms/step - loss: 9.4318e-04 - mae: 9.4318e-04\n",
      "Epoch 195/200\n",
      "372/372 [==============================] - 5s 12ms/step - loss: 9.0653e-04 - mae: 9.0653e-04\n",
      "Epoch 196/200\n",
      "372/372 [==============================] - 5s 12ms/step - loss: 0.0010 - mae: 0.0010\n",
      "Epoch 197/200\n",
      "372/372 [==============================] - 4s 12ms/step - loss: 0.0010 - mae: 0.0010  \n",
      "Epoch 198/200\n",
      "372/372 [==============================] - 4s 11ms/step - loss: 9.2383e-04 - mae: 9.2383e-04\n",
      "Epoch 199/200\n",
      "372/372 [==============================] - 5s 12ms/step - loss: 9.3115e-04 - mae: 9.3115e-04\n",
      "Epoch 200/200\n",
      "372/372 [==============================] - 5s 12ms/step - loss: 0.0011 - mae: 0.0011\n"
     ]
    },
    {
     "data": {
      "text/plain": [
       "<keras.callbacks.History at 0x7f54bfa37190>"
      ]
     },
     "execution_count": 31,
     "metadata": {},
     "output_type": "execute_result"
    }
   ],
   "source": [
    "# Using early stop, so we could avoid to many epoch running\n",
    "from tensorflow.keras.callbacks import EarlyStopping\n",
    "early_stop = EarlyStopping(monitor='loss',mode='min', verbose=1, patience=25)\n",
    "\n",
    "# fit model\n",
    "model.fit(generator, batch_size=64, epochs=200, verbose=1)"
   ]
  },
  {
   "cell_type": "code",
   "execution_count": 38,
   "id": "fe1d3190",
   "metadata": {
    "ExecuteTime": {
     "end_time": "2022-11-22T09:17:57.672103Z",
     "start_time": "2022-11-22T09:17:57.315949Z"
    }
   },
   "outputs": [
    {
     "name": "stdout",
     "output_type": "stream",
     "text": [
      "32/32 [==============================] - 0s 6ms/step\n"
     ]
    },
    {
     "data": {
      "text/plain": [
       "(1000, 1)"
      ]
     },
     "execution_count": 38,
     "metadata": {},
     "output_type": "execute_result"
    }
   ],
   "source": [
    "predicted = model.predict(test_X)\n",
    "predicted = inv_norm(predicted,df['TOTAL_WAVE_HEIGHT'])\n",
    "\n",
    "predicted.shape"
   ]
  },
  {
   "cell_type": "code",
   "execution_count": 39,
   "id": "ee691dc7",
   "metadata": {
    "ExecuteTime": {
     "end_time": "2022-11-22T09:17:59.775495Z",
     "start_time": "2022-11-22T09:17:59.765834Z"
    }
   },
   "outputs": [
    {
     "data": {
      "text/plain": [
       "1000"
      ]
     },
     "execution_count": 39,
     "metadata": {},
     "output_type": "execute_result"
    }
   ],
   "source": [
    "len(test_data)"
   ]
  },
  {
   "cell_type": "code",
   "execution_count": 40,
   "id": "a43d83b6",
   "metadata": {
    "ExecuteTime": {
     "end_time": "2022-11-22T09:18:03.431413Z",
     "start_time": "2022-11-22T09:18:03.134224Z"
    }
   },
   "outputs": [
    {
     "data": {
      "image/png": "[encoded data removed]",
      "text/plain": [
       "<Figure size 1600x400 with 1 Axes>"
      ]
     },
     "metadata": {},
     "output_type": "display_data"
    }
   ],
   "source": [
    "plt.figure(figsize=(20,5), dpi=80, facecolor='w', edgecolor='k')\n",
    "\n",
    "sns.lineplot(x=test_data['TIME_STAMP'],y=test_data['TOTAL_WAVE_HEIGHT'],color='black',label='TOTAL_WAVE_HEIGHT')\n",
    "sns.lineplot(x=test_data['TIME_STAMP'],y=predicted[:,0],color='orange',label='LSTM Result')\n",
    "\n",
    "plt.legend()\n",
    "plt.grid(True)\n",
    "plt.show()"
   ]
  },
  {
   "cell_type": "code",
   "execution_count": 41,
   "id": "10198a79",
   "metadata": {
    "ExecuteTime": {
     "end_time": "2022-11-22T09:18:06.440612Z",
     "start_time": "2022-11-22T09:18:06.419606Z"
    }
   },
   "outputs": [
    {
     "name": "stdout",
     "output_type": "stream",
     "text": [
      "MSE: 0.00019830859603287265\n",
      "MAE: 0.011166551437377941\n",
      "RMSE: 0.014082208492735528\n",
      "MAPE: 0.0033242094216846853\n"
     ]
    }
   ],
   "source": [
    "from sklearn.metrics import mean_squared_error, mean_absolute_error\n",
    "import math\n",
    "\n",
    "# report performance\n",
    "mse = mean_squared_error(test_data['TOTAL_WAVE_HEIGHT'], predicted)\n",
    "print('MSE: '+str(mse))\n",
    "mae = mean_absolute_error(test_data['TOTAL_WAVE_HEIGHT'], predicted)\n",
    "print('MAE: '+str(mae))\n",
    "rmse = math.sqrt(mean_squared_error(test_data['TOTAL_WAVE_HEIGHT'], predicted))\n",
    "print('RMSE: '+str(rmse))\n",
    "mape = np.mean(np.abs(predicted[:,0] - test_data['TOTAL_WAVE_HEIGHT'])/np.abs(test_data['TOTAL_WAVE_HEIGHT']))\n",
    "print('MAPE: '+str(mape))"
   ]
  },
  {
   "cell_type": "markdown",
   "id": "4656e501",
   "metadata": {},
   "source": [
    "# Save Model"
   ]
  },
  {
   "cell_type": "code",
   "execution_count": 42,
   "id": "28e231cd",
   "metadata": {
    "ExecuteTime": {
     "end_time": "2022-11-22T09:18:11.802533Z",
     "start_time": "2022-11-22T09:18:11.796919Z"
    }
   },
   "outputs": [],
   "source": [
    "import pickle"
   ]
  },
  {
   "cell_type": "code",
   "execution_count": 43,
   "id": "06caf4b0",
   "metadata": {
    "ExecuteTime": {
     "end_time": "2022-11-22T09:18:12.150022Z",
     "start_time": "2022-11-22T09:18:12.109899Z"
    }
   },
   "outputs": [],
   "source": [
    "model.save('model_LSTM.h5')"
   ]
  },
  {
   "cell_type": "code",
   "execution_count": 44,
   "id": "ca12e447",
   "metadata": {
    "ExecuteTime": {
     "end_time": "2022-11-22T09:18:12.473943Z",
     "start_time": "2022-11-22T09:18:12.454563Z"
    }
   },
   "outputs": [],
   "source": [
    "def local_persist(fname, modelname) :\n",
    "    fname = fname\n",
    "    pickle.dump(modelname, open(fname, 'wb'))\n",
    "local_persist('isolation_forest.pkl',iso)"
   ]
  },
  {
   "cell_type": "code",
   "execution_count": 49,
   "id": "8f1e414b",
   "metadata": {
    "ExecuteTime": {
     "end_time": "2022-11-22T11:28:42.819175Z",
     "start_time": "2022-11-22T11:28:42.237931Z"
    }
   },
   "outputs": [],
   "source": [
    "df.to_csv(\"baseline_normalization.csv\",index=False)"
   ]
  },
  {
   "cell_type": "markdown",
   "id": "e606768e",
   "metadata": {},
   "source": [
    "# Trial Deployment"
   ]
  },
  {
   "cell_type": "code",
   "execution_count": 1,
   "id": "518e18e6",
   "metadata": {
    "ExecuteTime": {
     "end_time": "2022-11-22T12:52:51.327265Z",
     "start_time": "2022-11-22T12:52:51.317181Z"
    }
   },
   "outputs": [],
   "source": [
    "import warnings\n",
    "warnings.filterwarnings('ignore')"
   ]
  },
  {
   "cell_type": "code",
   "execution_count": 2,
   "id": "3dfafc8f",
   "metadata": {
    "ExecuteTime": {
     "end_time": "2022-11-22T12:52:53.667227Z",
     "start_time": "2022-11-22T12:52:51.329265Z"
    }
   },
   "outputs": [
    {
     "name": "stderr",
     "output_type": "stream",
     "text": [
      "2022-11-22 12:52:51.562103: I tensorflow/core/platform/cpu_feature_guard.cc:193] This TensorFlow binary is optimized with oneAPI Deep Neural Network Library (oneDNN) to use the following CPU instructions in performance-critical operations:  AVX2 AVX512F FMA\n",
      "To enable them in other operations, rebuild TensorFlow with the appropriate compiler flags.\n",
      "2022-11-22 12:52:51.747769: E tensorflow/stream_executor/cuda/cuda_blas.cc:2981] Unable to register cuBLAS factory: Attempting to register factory for plugin cuBLAS when one has already been registered\n",
      "2022-11-22 12:52:52.401366: W tensorflow/stream_executor/platform/default/dso_loader.cc:64] Could not load dynamic library 'libnvinfer.so.7'; dlerror: libnvinfer.so.7: cannot open shared object file: No such file or directory; LD_LIBRARY_PATH: /usr/local/nvidia/lib:/usr/local/nvidia/lib64:/usr/local/cuda/extras/CUPTI/lib64\n",
      "2022-11-22 12:52:52.401441: W tensorflow/stream_executor/platform/default/dso_loader.cc:64] Could not load dynamic library 'libnvinfer_plugin.so.7'; dlerror: libnvinfer_plugin.so.7: cannot open shared object file: No such file or directory; LD_LIBRARY_PATH: /usr/local/nvidia/lib:/usr/local/nvidia/lib64:/usr/local/cuda/extras/CUPTI/lib64\n",
      "2022-11-22 12:52:52.401451: W tensorflow/compiler/tf2tensorrt/utils/py_utils.cc:38] TF-TRT Warning: Cannot dlopen some TensorRT libraries. If you would like to use Nvidia GPU with TensorRT, please make sure the missing libraries mentioned above are installed properly.\n"
     ]
    }
   ],
   "source": [
    "import pandas as pd\n",
    "import numpy as np\n",
    "import tensorflow as tf\n",
    "import pickle\n",
    "from numpy import hstack\n",
    "\n",
    "import sqlalchemy\n",
    "from sklearn.ensemble import IsolationForest"
   ]
  },
  {
   "cell_type": "code",
   "execution_count": 3,
   "id": "bb71ee59",
   "metadata": {
    "ExecuteTime": {
     "end_time": "2022-11-22T12:52:54.112503Z",
     "start_time": "2022-11-22T12:52:53.672397Z"
    }
   },
   "outputs": [],
   "source": [
    "# ---- set database connection\n",
    "database_username = 'root'\n",
    "database_password = 'balab'\n",
    "database_ip       = '172.17.0.7'\n",
    "database_name     = 'data_hackathon'\n",
    "database_connection = sqlalchemy.create_engine('mysql+mysqlconnector://{0}:{1}@{2}/{3}'.\n",
    "                                               format(database_username, database_password,\n",
    "                                                      database_ip, database_name))\n",
    "\n",
    "data = pd.read_sql('select * from data_source order by TIME_STAMP desc limit 60',con=database_connection)\n",
    "data = data.sort_values(\"TIME_STAMP\").reset_index(drop=True)\n",
    "data['TIME_STAMP'] = pd.to_datetime(data['TIME_STAMP'])\n",
    "\n",
    "baseline = pd.read_csv(\"baseline_normalization.csv\")\n",
    "\n",
    "ISO_MODEL  = \"isolation_forest.pkl\"\n",
    "LSTM_MODEL = \"model_LSTM.h5\""
   ]
  },
  {
   "cell_type": "code",
   "execution_count": 30,
   "id": "754e68d5",
   "metadata": {
    "ExecuteTime": {
     "end_time": "2022-11-22T15:04:02.221156Z",
     "start_time": "2022-11-22T15:04:02.205346Z"
    }
   },
   "outputs": [
    {
     "name": "stdout",
     "output_type": "stream",
     "text": [
      "2.38 0.69\n"
     ]
    }
   ],
   "source": [
    "UPLIM  = baseline['TOTAL_WAVE_HEIGHT'].quantile(0.80)\n",
    "LOWLIM = baseline['TOTAL_WAVE_HEIGHT'].quantile(0.20)\n",
    "print(UPLIM,LOWLIM)"
   ]
  },
  {
   "cell_type": "code",
   "execution_count": 4,
   "id": "59706b3d",
   "metadata": {
    "ExecuteTime": {
     "end_time": "2022-11-22T12:52:54.123653Z",
     "start_time": "2022-11-22T12:52:54.116061Z"
    }
   },
   "outputs": [],
   "source": [
    "def preprocessing(df) :\n",
    "    \n",
    "    # FILTER FEATURES\n",
    "    LIST_FEATURES = ['CURRENT_UV',\n",
    "                     'CURRENT_SPEED',\n",
    "                     'SPEED_VG',\n",
    "                     'SPEED_LW',\n",
    "                     'REL_WIND_SPEED',\n",
    "                     'TOTAL_WAVE_HEIGHT',\n",
    "                     'TOTAL_WAVE_DIRECTION',\n",
    "                     'TOTAL_WAVE_PERIOD',\n",
    "                     'WIND_UV',\n",
    "                     'WIND_SPEED',\n",
    "                     'PRESSURE_SURFACE',\n",
    "                     'PRESSURE_MSL',\n",
    "                     'SEA_SURFACE_SALINITY',\n",
    "                     'ME1_RPM',\n",
    "                     'ME1_FOC']\n",
    "    \n",
    "    df = df[['TIME_STAMP']+LIST_FEATURES]\n",
    "    \n",
    "    # ISOLATION FOREST\n",
    "    trained_iso = open(ISO_MODEL,'rb')\n",
    "    iso = pickle.load(trained_iso)\n",
    "    iso_score = iso.score_samples(df.drop(['TIME_STAMP'],axis=1))\n",
    "    iso_binary = iso.predict(df.drop(['TIME_STAMP'],axis=1))\n",
    "\n",
    "    df['ISO_SCORE']  = iso_score\n",
    "    df['ISO_BINARY'] = iso_binary\n",
    "\n",
    "    # DAY or NIGHT\n",
    "    df['DAY_NIGHT']  = df['TIME_STAMP'].apply(lambda x : 1 if 6<=pd.to_datetime(x).hour<=12 else 0)\n",
    "    df['TIME_STAMP'] = pd.to_datetime(df['TIME_STAMP'])\n",
    "    \n",
    "    return df"
   ]
  },
  {
   "cell_type": "code",
   "execution_count": 5,
   "id": "ff4b0744",
   "metadata": {
    "ExecuteTime": {
     "end_time": "2022-11-22T12:52:54.744540Z",
     "start_time": "2022-11-22T12:52:54.644922Z"
    }
   },
   "outputs": [],
   "source": [
    "inputs = preprocessing(data)"
   ]
  },
  {
   "cell_type": "code",
   "execution_count": 6,
   "id": "d9053dd7",
   "metadata": {
    "ExecuteTime": {
     "end_time": "2022-11-22T12:52:55.413229Z",
     "start_time": "2022-11-22T12:52:55.200103Z"
    }
   },
   "outputs": [],
   "source": [
    "#normalization function\n",
    "def norm(x,data):\n",
    "    xn = (x - min(data)) / (max(data) - min(data))\n",
    "    return xn\n",
    "def inv_norm(xn,data) :\n",
    "    x = (xn*(max(data) - min(data))) + min(data)\n",
    "    return x\n",
    "\n",
    "# define dataset\n",
    "in_seq1 = np.array(norm(inputs['TOTAL_WAVE_HEIGHT'],baseline['TOTAL_WAVE_HEIGHT']))\n",
    "\n",
    "in_seq2 = np.array(norm(inputs['CURRENT_UV'],baseline['CURRENT_UV']))\n",
    "in_seq3 = np.array(norm(inputs['CURRENT_SPEED'],baseline['CURRENT_SPEED']))\n",
    "in_seq4 = np.array(norm(inputs['SPEED_VG'],baseline['SPEED_VG']))\n",
    "in_seq5 = np.array(norm(inputs['SPEED_LW'],baseline['SPEED_LW']))\n",
    "in_seq6 = np.array(norm(inputs['REL_WIND_SPEED'],baseline['REL_WIND_SPEED']))\n",
    "in_seq7 = np.array(norm(inputs['TOTAL_WAVE_DIRECTION'],baseline['TOTAL_WAVE_DIRECTION']))\n",
    "in_seq8 = np.array(norm(inputs['TOTAL_WAVE_PERIOD'],baseline['TOTAL_WAVE_PERIOD']))\n",
    "in_seq9 = np.array(norm(inputs['WIND_UV'],baseline['WIND_UV']))\n",
    "in_seq10 = np.array(norm(inputs['WIND_SPEED'],baseline['WIND_SPEED']))\n",
    "in_seq11 = np.array(norm(inputs['PRESSURE_SURFACE'],baseline['PRESSURE_SURFACE']))\n",
    "in_seq12 = np.array(norm(inputs['PRESSURE_MSL'],baseline['PRESSURE_MSL']))\n",
    "in_seq13 = np.array(norm(inputs['SEA_SURFACE_SALINITY'],baseline['SEA_SURFACE_SALINITY']))\n",
    "in_seq14 = np.array(norm(inputs['ME1_RPM'],baseline['ME1_RPM']))\n",
    "in_seq15 = np.array(norm(inputs['ME1_FOC'],baseline['ME1_FOC']))\n",
    "in_seq16 = np.array(norm(inputs['ISO_SCORE'],baseline['ISO_SCORE']))\n",
    "in_seq17 = np.array(norm(inputs['ISO_BINARY'],baseline['ISO_BINARY']))\n",
    "in_seq18 = np.array(norm(inputs['DAY_NIGHT'],baseline['DAY_NIGHT']))\n",
    "\n",
    "# reshape series\n",
    "in_seq1 = in_seq1.reshape((len(in_seq1), 1))\n",
    "in_seq2 = in_seq2.reshape((len(in_seq2), 1))\n",
    "in_seq3 = in_seq3.reshape((len(in_seq3), 1))\n",
    "in_seq4 = in_seq4.reshape((len(in_seq4), 1))\n",
    "in_seq5 = in_seq5.reshape((len(in_seq5), 1))\n",
    "\n",
    "in_seq6 = in_seq6.reshape((len(in_seq6), 1))\n",
    "in_seq7 = in_seq7.reshape((len(in_seq7), 1))\n",
    "in_seq8 = in_seq8.reshape((len(in_seq8), 1))\n",
    "in_seq9 = in_seq9.reshape((len(in_seq9), 1))\n",
    "in_seq10 = in_seq10.reshape((len(in_seq10), 1))\n",
    "\n",
    "in_seq11 = in_seq11.reshape((len(in_seq11), 1))\n",
    "in_seq12 = in_seq12.reshape((len(in_seq12), 1))\n",
    "in_seq13 = in_seq13.reshape((len(in_seq13), 1))\n",
    "in_seq14 = in_seq14.reshape((len(in_seq14), 1))\n",
    "in_seq15 = in_seq15.reshape((len(in_seq15), 1))\n",
    "\n",
    "in_seq16 = in_seq16.reshape((len(in_seq16), 1))\n",
    "in_seq17 = in_seq17.reshape((len(in_seq17), 1))\n",
    "in_seq18 = in_seq18.reshape((len(in_seq18), 1))\n",
    "\n",
    "# horizontally stack columns\n",
    "dataset_input = hstack((in_seq1,in_seq2, in_seq3, in_seq4, in_seq5, in_seq6, in_seq7, in_seq8, in_seq9, in_seq10, in_seq11, in_seq12, in_seq13, in_seq14, in_seq15, in_seq16, in_seq17, in_seq18))\n",
    "dataset_input = dataset_input.reshape(1,60,-1)"
   ]
  },
  {
   "cell_type": "code",
   "execution_count": 7,
   "id": "29dbfc0d",
   "metadata": {
    "ExecuteTime": {
     "end_time": "2022-11-22T12:52:55.884336Z",
     "start_time": "2022-11-22T12:52:55.868755Z"
    }
   },
   "outputs": [
    {
     "data": {
      "text/plain": [
       "(1, 60, 18)"
      ]
     },
     "execution_count": 7,
     "metadata": {},
     "output_type": "execute_result"
    }
   ],
   "source": [
    "dataset_input.shape"
   ]
  },
  {
   "cell_type": "code",
   "execution_count": 8,
   "id": "841cce5e",
   "metadata": {
    "ExecuteTime": {
     "end_time": "2022-11-22T12:53:01.698868Z",
     "start_time": "2022-11-22T12:52:56.615171Z"
    }
   },
   "outputs": [
    {
     "name": "stderr",
     "output_type": "stream",
     "text": [
      "2022-11-22 12:52:56.727285: I tensorflow/core/platform/cpu_feature_guard.cc:193] This TensorFlow binary is optimized with oneAPI Deep Neural Network Library (oneDNN) to use the following CPU instructions in performance-critical operations:  AVX2 AVX512F FMA\n",
      "To enable them in other operations, rebuild TensorFlow with the appropriate compiler flags.\n",
      "2022-11-22 12:53:01.331143: W tensorflow/core/common_runtime/gpu/gpu_bfc_allocator.cc:42] Overriding orig_value setting because the TF_FORCE_GPU_ALLOW_GROWTH environment variable is set. Original config value was 0.\n",
      "2022-11-22 12:53:01.331200: I tensorflow/core/common_runtime/gpu/gpu_device.cc:1616] Created device /job:localhost/replica:0/task:0/device:GPU:0 with 3690 MB memory:  -> device: 0, name: GeForce RTX 2080 Ti, pci bus id: 0000:3b:00.0, compute capability: 7.5\n",
      "2022-11-22 12:53:01.332239: W tensorflow/core/common_runtime/gpu/gpu_bfc_allocator.cc:42] Overriding orig_value setting because the TF_FORCE_GPU_ALLOW_GROWTH environment variable is set. Original config value was 0.\n",
      "2022-11-22 12:53:01.332266: I tensorflow/core/common_runtime/gpu/gpu_device.cc:1616] Created device /job:localhost/replica:0/task:0/device:GPU:1 with 2160 MB memory:  -> device: 1, name: GeForce RTX 2080 Ti, pci bus id: 0000:5e:00.0, compute capability: 7.5\n",
      "2022-11-22 12:53:01.333171: W tensorflow/core/common_runtime/gpu/gpu_bfc_allocator.cc:42] Overriding orig_value setting because the TF_FORCE_GPU_ALLOW_GROWTH environment variable is set. Original config value was 0.\n",
      "2022-11-22 12:53:01.333195: I tensorflow/core/common_runtime/gpu/gpu_device.cc:1616] Created device /job:localhost/replica:0/task:0/device:GPU:2 with 2158 MB memory:  -> device: 2, name: GeForce RTX 2080 Ti, pci bus id: 0000:af:00.0, compute capability: 7.5\n",
      "2022-11-22 12:53:01.334084: W tensorflow/core/common_runtime/gpu/gpu_bfc_allocator.cc:42] Overriding orig_value setting because the TF_FORCE_GPU_ALLOW_GROWTH environment variable is set. Original config value was 0.\n",
      "2022-11-22 12:53:01.334108: I tensorflow/core/common_runtime/gpu/gpu_device.cc:1616] Created device /job:localhost/replica:0/task:0/device:GPU:3 with 2471 MB memory:  -> device: 3, name: GeForce RTX 2080 Ti, pci bus id: 0000:d8:00.0, compute capability: 7.5\n"
     ]
    }
   ],
   "source": [
    "trained_model = tf.keras.models.load_model(LSTM_MODEL)"
   ]
  },
  {
   "cell_type": "code",
   "execution_count": 10,
   "id": "6403271a",
   "metadata": {
    "ExecuteTime": {
     "end_time": "2022-11-22T12:53:19.834246Z",
     "start_time": "2022-11-22T12:53:16.901847Z"
    }
   },
   "outputs": [
    {
     "name": "stderr",
     "output_type": "stream",
     "text": [
      "2022-11-22 12:53:18.484763: I tensorflow/stream_executor/cuda/cuda_dnn.cc:384] Loaded cuDNN version 8101\n"
     ]
    },
    {
     "name": "stdout",
     "output_type": "stream",
     "text": [
      "1/1 [==============================] - 3s 3s/step\n"
     ]
    }
   ],
   "source": [
    "predicted = trained_model.predict(dataset_input)\n",
    "predicted = inv_norm(predicted,baseline['TOTAL_WAVE_HEIGHT'])"
   ]
  },
  {
   "cell_type": "code",
   "execution_count": 31,
   "id": "8500f568",
   "metadata": {
    "ExecuteTime": {
     "end_time": "2022-11-22T15:04:53.774951Z",
     "start_time": "2022-11-22T15:04:53.670139Z"
    },
    "code_folding": [],
    "scrolled": true
   },
   "outputs": [
    {
     "data": {
      "text/plain": [
       "1"
      ]
     },
     "execution_count": 31,
     "metadata": {},
     "output_type": "execute_result"
    }
   ],
   "source": [
    "def condt(i):\n",
    "    if i <= LOWLIM :\n",
    "        return \"LOW WAVE\"\n",
    "    elif i >= UPLIM :\n",
    "        return \"HIGH WAVE\"\n",
    "    else :\n",
    "        return \"MEDIUM WAVE\"\n",
    "    \n",
    "result = pd.DataFrame({\n",
    "    'FUTURE_TS' : [data.iloc[-1]['TIME_STAMP'] + pd.Timedelta(minutes=10)],\n",
    "    'TOTAL_WAVE_HEIGHT' : predicted[0],\n",
    "    'LABELS' : [condt(i) for i in  predicted]\n",
    "})\n",
    "\n",
    "# ---- proses ingestion to databases\n",
    "result.to_sql(con=database_connection, name='dm_lstm_prediction', if_exists='replace',index=False)"
   ]
  },
  {
   "cell_type": "code",
   "execution_count": 32,
   "id": "7dc11741",
   "metadata": {
    "ExecuteTime": {
     "end_time": "2022-11-22T15:04:54.431371Z",
     "start_time": "2022-11-22T15:04:54.413239Z"
    }
   },
   "outputs": [
    {
     "data": {
      "text/html": [
       "<div>\n",
       "<style scoped>\n",
       "    .dataframe tbody tr th:only-of-type {\n",
       "        vertical-align: middle;\n",
       "    }\n",
       "\n",
       "    .dataframe tbody tr th {\n",
       "        vertical-align: top;\n",
       "    }\n",
       "\n",
       "    .dataframe thead th {\n",
       "        text-align: right;\n",
       "    }\n",
       "</style>\n",
       "<table border=\"1\" class=\"dataframe\">\n",
       "  <thead>\n",
       "    <tr style=\"text-align: right;\">\n",
       "      <th></th>\n",
       "      <th>FUTURE_TS</th>\n",
       "      <th>TOTAL_WAVE_HEIGHT</th>\n",
       "      <th>LABELS</th>\n",
       "    </tr>\n",
       "  </thead>\n",
       "  <tbody>\n",
       "    <tr>\n",
       "      <th>0</th>\n",
       "      <td>2020-07-01 00:00:00+00:00</td>\n",
       "      <td>1.991343</td>\n",
       "      <td>MEDIUM WAVE</td>\n",
       "    </tr>\n",
       "  </tbody>\n",
       "</table>\n",
       "</div>"
      ],
      "text/plain": [
       "                  FUTURE_TS  TOTAL_WAVE_HEIGHT       LABELS\n",
       "0 2020-07-01 00:00:00+00:00           1.991343  MEDIUM WAVE"
      ]
     },
     "execution_count": 32,
     "metadata": {},
     "output_type": "execute_result"
    }
   ],
   "source": [
    "result"
   ]
  },
  {
   "cell_type": "markdown",
   "id": "1d6aface",
   "metadata": {},
   "source": [
    "# Graph"
   ]
  },
  {
   "cell_type": "code",
   "execution_count": 33,
   "id": "2f398f0d",
   "metadata": {
    "ExecuteTime": {
     "end_time": "2022-11-23T08:39:28.875724Z",
     "start_time": "2022-11-23T08:39:28.868716Z"
    }
   },
   "outputs": [],
   "source": [
    "# html.Div([\n",
    "#         daq.LEDDisplay(\n",
    "#             id='LED-display-WAVEHEIGHT',\n",
    "#             label='longitude',\n",
    "#             value=00,\n",
    "#             size=30,\n",
    "#             color='#10A5F5'\n",
    "#         ),\n",
    "#     ],style={'textAlign': 'right','verticalAlign': 'middle'})"
   ]
  },
  {
   "cell_type": "code",
   "execution_count": 34,
   "id": "f1a33384",
   "metadata": {
    "ExecuteTime": {
     "end_time": "2022-11-23T08:40:19.727880Z",
     "start_time": "2022-11-23T08:40:19.719940Z"
    }
   },
   "outputs": [
    {
     "name": "stdout",
     "output_type": "stream",
     "text": [
      "0.69 2.38\n"
     ]
    }
   ],
   "source": [
    "print(LOWLIM, UPLIM)\n"
   ]
  },
  {
   "cell_type": "code",
   "execution_count": null,
   "id": "4fa4c0df",
   "metadata": {},
   "outputs": [],
   "source": [
    "# html.Div([\n",
    "#         daq.Gauge(\n",
    "#             id='level-gauge',\n",
    "#             color={\n",
    "#                 \"gradient\": True,\n",
    "#                 \"ranges\": {\"green\": [0., 0.69],\"yellow\": [0.69, 2.38] ,\"red\": [0.55, 10]},\n",
    "#             },\n",
    "#             label=\"anomaly score\",\n",
    "#             style={'stroke-width': '20px'},\n",
    "#             size=250,\n",
    "#             max=0.8,\n",
    "#             min=0,\n",
    "#             value=0.3\n",
    "#         )\n",
    "#     ])"
   ]
  }
 ],
 "metadata": {
  "kernelspec": {
   "display_name": "mga_hack",
   "language": "python",
   "name": "mga_hack"
  },
  "language_info": {
   "codemirror_mode": {
    "name": "ipython",
    "version": 3
   },
   "file_extension": ".py",
   "mimetype": "text/x-python",
   "name": "python",
   "nbconvert_exporter": "python",
   "pygments_lexer": "ipython3",
   "version": "3.8.10"
  },
  "toc": {
   "base_numbering": 1,
   "nav_menu": {},
   "number_sections": false,
   "sideBar": true,
   "skip_h1_title": false,
   "title_cell": "Table of Contents",
   "title_sidebar": "Contents",
   "toc_cell": false,
   "toc_position": {},
   "toc_section_display": true,
   "toc_window_display": false
  }
 },
 "nbformat": 4,
 "nbformat_minor": 5
}
